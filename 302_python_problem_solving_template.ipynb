{
  "cells": [
    {
      "cell_type": "markdown",
      "metadata": {
        "id": "view-in-github",
        "colab_type": "text"
      },
      "source": [
        "<a href=\"https://colab.research.google.com/github/tavi1402/Data_Structures_and_algorithms_in_python/blob/main/302_python_problem_solving_template.ipynb\" target=\"_parent\"><img src=\"https://colab.research.google.com/assets/colab-badge.svg\" alt=\"Open In Colab\"/></a>"
      ]
    },
    {
      "cell_type": "markdown",
      "id": "2ae147e7",
      "metadata": {
        "id": "2ae147e7"
      },
      "source": [
        "# Problem Solving Template (change the title)\n",
        "\n",
        "_To learn how to use this template, check out the course [\"Data Structures and Algorithms in Python\"](https://jovian.ai/learn/data-structures-and-algorithms-in-python)._\n",
        "\n",
        "\n"
      ]
    },
    {
      "cell_type": "markdown",
      "id": "6b6c492c",
      "metadata": {
        "id": "6b6c492c"
      },
      "source": [
        "## How to run the code and save your work\n",
        "\n",
        "The recommended way to run this notebook is to click the \"Run\" button at the top of this page, and select \"Run on Binder\". This will run the notebook on [mybinder.org](https://mybinder.org), a free online service for running Jupyter notebooks.\n",
        "\n",
        "This tutorial is an executable [Jupyter notebook](https://jupyter.org). You can _run_ this tutorial and experiment with the code examples in a couple of ways: *using free online resources* (recommended) or *on your computer*.\n",
        "\n",
        "#### Option 1: Running using free online resources (1-click, recommended)\n",
        "\n",
        "The easiest way to start executing the code is to click the **Run** button at the top of this page and select **Run on Binder**. You can also select \"Run on Colab\" or \"Run on Kaggle\", but you'll need to create an account on [Google Colab](https://colab.research.google.com) or [Kaggle](https://kaggle.com) to use these platforms.\n",
        "\n",
        "\n",
        "#### Option 2: Running on your computer locally\n",
        "\n",
        "To run the code on your computer locally, you'll need to set up [Python](https://www.python.org), download the notebook and install the required libraries. We recommend using the [Conda](https://docs.conda.io/projects/conda/en/latest/user-guide/install/) distribution of Python. Click the **Run** button at the top of this page, select the **Run Locally** option, and follow the instructions.\n",
        "\n",
        "#### Saving your work\n",
        "\n",
        "Before staring the assignment, let's save a snapshot of the assignment to your [Jovian](https://jovian.ai) profile, so that you can access it later, and continue your work."
      ]
    },
    {
      "cell_type": "code",
      "execution_count": null,
      "id": "f6acb3be",
      "metadata": {
        "id": "f6acb3be"
      },
      "outputs": [],
      "source": [
        "project_name = ??? # give it an appropriate name"
      ]
    },
    {
      "cell_type": "code",
      "execution_count": null,
      "id": "0c353067",
      "metadata": {
        "id": "0c353067"
      },
      "outputs": [],
      "source": [
        "!pip install jovian --upgrade --quiet"
      ]
    },
    {
      "cell_type": "code",
      "execution_count": null,
      "id": "4ad426b5",
      "metadata": {
        "id": "4ad426b5"
      },
      "outputs": [],
      "source": [
        "import jovian"
      ]
    },
    {
      "cell_type": "code",
      "execution_count": null,
      "id": "f915c141",
      "metadata": {
        "id": "f915c141",
        "outputId": "8b3496a2-f58a-4af1-b92b-a8ac207bc29d"
      },
      "outputs": [
        {
          "data": {
            "application/javascript": [
              "window.require && require([\"base/js/namespace\"],function(Jupyter){Jupyter.notebook.save_checkpoint()})"
            ],
            "text/plain": [
              "<IPython.core.display.Javascript object>"
            ]
          },
          "metadata": {},
          "output_type": "display_data"
        },
        {
          "name": "stdout",
          "output_type": "stream",
          "text": [
            "[jovian] Attempting to save notebook..\u001b[0m\n",
            "[jovian] Updating notebook \"aakashns/python-problem-solving-template\" on https://jovian.ai/\u001b[0m\n",
            "[jovian] Uploading notebook..\u001b[0m\n",
            "[jovian] Capturing environment..\u001b[0m\n",
            "[jovian] Committed successfully! https://jovian.ai/aakashns/python-problem-solving-template\u001b[0m\n"
          ]
        },
        {
          "data": {
            "text/plain": [
              "'https://jovian.ai/aakashns/python-problem-solving-template'"
            ]
          },
          "execution_count": 9,
          "metadata": {},
          "output_type": "execute_result"
        }
      ],
      "source": [
        "jovian.commit(project=project_name)"
      ]
    },
    {
      "cell_type": "markdown",
      "id": "541487fd",
      "metadata": {
        "id": "541487fd"
      },
      "source": [
        "## Problem Statement\n",
        "\n",
        "\n",
        "> ??? (past the problem statement here)\n",
        "\n",
        "\n",
        "Source: ??? (link to the source)"
      ]
    },
    {
      "cell_type": "markdown",
      "id": "aca219c8",
      "metadata": {
        "id": "aca219c8"
      },
      "source": [
        "## The Method\n",
        "\n",
        "Here's the systematic strategy we'll apply for solving problems:\n",
        "\n",
        "1. State the problem clearly. Identify the input & output formats.\n",
        "2. Come up with some example inputs & outputs. Try to cover all edge cases.\n",
        "3. Come up with a correct solution for the problem. State it in plain English.\n",
        "4. Implement the solution and test it using example inputs. Fix bugs, if any.\n",
        "5. Analyze the algorithm's complexity and identify inefficiencies, if any.\n",
        "6. Apply the right technique to overcome the inefficiency. Repeat steps 3 to 6.\n",
        "\n",
        "This approach is explained in detail in [Lesson 1](https://jovian.ai/learn/data-structures-and-algorithms-in-python/lesson/lesson-1-binary-search-linked-lists-and-complexity) of the course. Let's apply this approach step-by-step."
      ]
    },
    {
      "cell_type": "markdown",
      "id": "1458313d",
      "metadata": {
        "id": "1458313d"
      },
      "source": [
        "## Solution\n",
        "\n",
        "\n",
        "### 1. State the problem clearly. Identify the input & output formats.\n",
        "\n",
        "While this problem is stated clearly enough, it's always useful to try and express in your own words, in a way that makes it most clear for you.\n",
        "\n",
        "\n",
        "**Problem**\n",
        "\n",
        "> **???** (express the problem clearly in our own words, and in absract terms\n",
        "\n",
        "<br/>\n",
        "\n",
        "\n",
        "**Input**\n",
        "\n",
        "1. **???**\n",
        "2. **???**\n",
        "\n",
        "(add more if required)\n",
        "\n",
        "\n",
        "**Output**\n",
        "\n",
        "1. **???**\n",
        "\n",
        "\n",
        "(add more if required)\n",
        "\n",
        "<br/>\n",
        "\n",
        "Based on the above, we can now create a signature of our function:"
      ]
    },
    {
      "cell_type": "code",
      "execution_count": null,
      "id": "b68d77e5",
      "metadata": {
        "id": "b68d77e5"
      },
      "outputs": [],
      "source": [
        "# Create a function signature here. The body of the function can contain a single statement: pass"
      ]
    },
    {
      "cell_type": "markdown",
      "id": "30ce83db",
      "metadata": {
        "id": "30ce83db"
      },
      "source": [
        "Save and upload your work before continuing."
      ]
    },
    {
      "cell_type": "code",
      "execution_count": null,
      "id": "430cd6c4",
      "metadata": {
        "id": "430cd6c4"
      },
      "outputs": [],
      "source": [
        "import jovian"
      ]
    },
    {
      "cell_type": "code",
      "execution_count": null,
      "id": "acc383e6",
      "metadata": {
        "id": "acc383e6",
        "outputId": "58ee345a-dc48-42fa-ea7c-9fc919cd01eb"
      },
      "outputs": [
        {
          "data": {
            "application/javascript": [
              "window.require && require([\"base/js/namespace\"],function(Jupyter){Jupyter.notebook.save_checkpoint()})"
            ],
            "text/plain": [
              "<IPython.core.display.Javascript object>"
            ]
          },
          "metadata": {},
          "output_type": "display_data"
        },
        {
          "name": "stdout",
          "output_type": "stream",
          "text": [
            "[jovian] Attempting to save notebook..\u001b[0m\n"
          ]
        }
      ],
      "source": [
        "jovian.commit()"
      ]
    },
    {
      "cell_type": "markdown",
      "id": "28a210f2",
      "metadata": {
        "id": "28a210f2"
      },
      "source": [
        "### 2. Come up with some example inputs & outputs. Try to cover all edge cases.\n",
        "\n",
        "Our function should be able to handle any set of valid inputs we pass into it. Here's a list of some possible variations we might encounter:\n",
        "\n",
        "1. **???**\n",
        "2. **???**\n",
        "3. **???**\n",
        "4. **???**\n",
        "5. **???**\n",
        "\n",
        "(add more if required)\n",
        "\n",
        "\n",
        "We'll express our test cases as dictionaries, to test them easily. Each dictionary will contain 2 keys: `input` (a dictionary itself containing one key for each argument to the function and `output` (the expected result from the function)."
      ]
    },
    {
      "cell_type": "code",
      "execution_count": null,
      "id": "ef5cbfc4",
      "metadata": {
        "id": "ef5cbfc4"
      },
      "outputs": [],
      "source": [
        "test = {\n",
        "    'input': {\n",
        "        ???\n",
        "    },\n",
        "    'output': ???\n",
        "}"
      ]
    },
    {
      "cell_type": "markdown",
      "id": "15acc2b2",
      "metadata": {
        "id": "15acc2b2"
      },
      "source": [
        "Create one test case for each of the scenarios listed above. We'll store our test cases in an array called `tests`."
      ]
    },
    {
      "cell_type": "code",
      "execution_count": null,
      "id": "b69e4af6",
      "metadata": {
        "id": "b69e4af6"
      },
      "outputs": [],
      "source": [
        "tests = []"
      ]
    },
    {
      "cell_type": "code",
      "execution_count": null,
      "id": "046a13b0",
      "metadata": {
        "id": "046a13b0"
      },
      "outputs": [],
      "source": [
        "tests.append(test)"
      ]
    },
    {
      "cell_type": "code",
      "execution_count": null,
      "id": "b46f1212",
      "metadata": {
        "id": "b46f1212"
      },
      "outputs": [],
      "source": [
        "tests.append({\n",
        "    'input': {\n",
        "        ???\n",
        "    },\n",
        "    'output': ???\n",
        "})"
      ]
    },
    {
      "cell_type": "code",
      "execution_count": null,
      "id": "233124ad",
      "metadata": {
        "id": "233124ad"
      },
      "outputs": [],
      "source": [
        "# add more test cases"
      ]
    },
    {
      "cell_type": "code",
      "execution_count": null,
      "id": "3145b626",
      "metadata": {
        "id": "3145b626"
      },
      "outputs": [],
      "source": []
    },
    {
      "cell_type": "markdown",
      "id": "d3bfd50f",
      "metadata": {
        "id": "d3bfd50f"
      },
      "source": [
        "### 3. Come up with a correct solution for the problem. State it in plain English.\n",
        "\n",
        "Our first goal should always be to come up with a _correct_ solution to the problem, which may not necessarily be the most _efficient_ solution. Come with a correct solution and explain it in simple words below:\n",
        "\n",
        "1. **???**\n",
        "2. **???**\n",
        "3. **???**\n",
        "4. **???**\n",
        "5. **???**\n",
        "\n",
        "(add more steps if required)\n",
        "\n",
        "\n",
        "Let's save and upload our work before continuing.\n",
        "\n",
        "\n"
      ]
    },
    {
      "cell_type": "code",
      "execution_count": null,
      "id": "ef5eabb1",
      "metadata": {
        "id": "ef5eabb1",
        "outputId": "1691c8a9-24e7-4e19-a297-bc21b649e604"
      },
      "outputs": [
        {
          "data": {
            "application/javascript": [
              "window.require && require([\"base/js/namespace\"],function(Jupyter){Jupyter.notebook.save_checkpoint()})"
            ],
            "text/plain": [
              "<IPython.core.display.Javascript object>"
            ]
          },
          "metadata": {},
          "output_type": "display_data"
        },
        {
          "name": "stdout",
          "output_type": "stream",
          "text": [
            "[jovian] Attempting to save notebook..\u001b[0m\n",
            "[jovian] Updating notebook \"aakashns/python-problem-solving-template\" on https://jovian.ai/\u001b[0m\n",
            "[jovian] Uploading notebook..\u001b[0m\n",
            "[jovian] Capturing environment..\u001b[0m\n",
            "[jovian] Committed successfully! https://jovian.ai/aakashns/python-problem-solving-template\u001b[0m\n"
          ]
        },
        {
          "data": {
            "text/plain": [
              "'https://jovian.ai/aakashns/python-problem-solving-template'"
            ]
          },
          "execution_count": 18,
          "metadata": {},
          "output_type": "execute_result"
        }
      ],
      "source": [
        "jovian.commit()"
      ]
    },
    {
      "cell_type": "markdown",
      "id": "bcacb9a8",
      "metadata": {
        "id": "bcacb9a8"
      },
      "source": [
        "###  4. Implement the solution and test it using example inputs. Fix bugs, if any."
      ]
    },
    {
      "cell_type": "code",
      "execution_count": null,
      "id": "b4a2b3f7",
      "metadata": {
        "id": "b4a2b3f7"
      },
      "outputs": [],
      "source": []
    },
    {
      "cell_type": "code",
      "execution_count": null,
      "id": "53332181",
      "metadata": {
        "id": "53332181"
      },
      "outputs": [],
      "source": []
    },
    {
      "cell_type": "code",
      "execution_count": null,
      "id": "9b7ba66b",
      "metadata": {
        "id": "9b7ba66b"
      },
      "outputs": [],
      "source": []
    },
    {
      "cell_type": "code",
      "execution_count": null,
      "id": "11011327",
      "metadata": {
        "id": "11011327"
      },
      "outputs": [],
      "source": []
    },
    {
      "cell_type": "markdown",
      "id": "d4ec648a",
      "metadata": {
        "id": "d4ec648a"
      },
      "source": [
        "We can test the function by passing the input to it directly or by using the `evaluate_test_case` function from `jovian`."
      ]
    },
    {
      "cell_type": "code",
      "execution_count": null,
      "id": "e1bd1702",
      "metadata": {
        "id": "e1bd1702"
      },
      "outputs": [],
      "source": [
        "from jovian.pythondsa import evaluate_test_case"
      ]
    },
    {
      "cell_type": "code",
      "execution_count": null,
      "id": "641ce1ca",
      "metadata": {
        "id": "641ce1ca"
      },
      "outputs": [],
      "source": [
        "evaluate_test_case(???)"
      ]
    },
    {
      "cell_type": "markdown",
      "id": "f644e584",
      "metadata": {
        "id": "f644e584"
      },
      "source": [
        "Evaluate your function against all the test cases together using the `evaluate_test_cases` (plural) function from `jovian`."
      ]
    },
    {
      "cell_type": "code",
      "execution_count": null,
      "id": "7d4cf452",
      "metadata": {
        "id": "7d4cf452"
      },
      "outputs": [],
      "source": [
        "from jovian.pythondsa import evaluate_test_cases"
      ]
    },
    {
      "cell_type": "code",
      "execution_count": null,
      "id": "1259698c",
      "metadata": {
        "id": "1259698c"
      },
      "outputs": [],
      "source": [
        "evaluate_test_cases(???)"
      ]
    },
    {
      "cell_type": "markdown",
      "id": "12b398b2",
      "metadata": {
        "id": "12b398b2"
      },
      "source": [
        "Verify that all the test cases were evaluated. We expect them all to fail, since we haven't implemented the function yet.\n",
        "\n",
        "Let's save our work before continuing."
      ]
    },
    {
      "cell_type": "code",
      "execution_count": null,
      "id": "d86e35ca",
      "metadata": {
        "id": "d86e35ca",
        "outputId": "9c656d05-a4cb-4a34-8bf2-a4796dfd8f1b"
      },
      "outputs": [
        {
          "data": {
            "application/javascript": [
              "window.require && require([\"base/js/namespace\"],function(Jupyter){Jupyter.notebook.save_checkpoint()})"
            ],
            "text/plain": [
              "<IPython.core.display.Javascript object>"
            ]
          },
          "metadata": {},
          "output_type": "display_data"
        },
        {
          "name": "stdout",
          "output_type": "stream",
          "text": [
            "[jovian] Attempting to save notebook..\u001b[0m\n",
            "[jovian] Updating notebook \"aakashns/python-problem-solving-template\" on https://jovian.ai/\u001b[0m\n",
            "[jovian] Uploading notebook..\u001b[0m\n",
            "[jovian] Capturing environment..\u001b[0m\n",
            "[jovian] Committed successfully! https://jovian.ai/aakashns/python-problem-solving-template\u001b[0m\n"
          ]
        },
        {
          "data": {
            "text/plain": [
              "'https://jovian.ai/aakashns/python-problem-solving-template'"
            ]
          },
          "execution_count": 17,
          "metadata": {},
          "output_type": "execute_result"
        }
      ],
      "source": [
        "jovian.commit()"
      ]
    },
    {
      "cell_type": "code",
      "execution_count": null,
      "id": "c54cf418",
      "metadata": {
        "id": "c54cf418"
      },
      "outputs": [],
      "source": []
    },
    {
      "cell_type": "markdown",
      "id": "ff791275",
      "metadata": {
        "id": "ff791275"
      },
      "source": [
        "### 5. Analyze the algorithm's complexity and identify inefficiencies, if any."
      ]
    },
    {
      "cell_type": "code",
      "execution_count": null,
      "id": "36e1911c",
      "metadata": {
        "id": "36e1911c"
      },
      "outputs": [],
      "source": []
    },
    {
      "cell_type": "code",
      "execution_count": null,
      "id": "32a40a84",
      "metadata": {
        "id": "32a40a84"
      },
      "outputs": [],
      "source": []
    },
    {
      "cell_type": "code",
      "execution_count": null,
      "id": "4ec178bb",
      "metadata": {
        "id": "4ec178bb"
      },
      "outputs": [],
      "source": []
    },
    {
      "cell_type": "code",
      "execution_count": null,
      "id": "53b319ac",
      "metadata": {
        "id": "53b319ac",
        "outputId": "0256a794-3af3-443a-f2da-f0fe29e54244"
      },
      "outputs": [
        {
          "data": {
            "application/javascript": [
              "window.require && require([\"base/js/namespace\"],function(Jupyter){Jupyter.notebook.save_checkpoint()})"
            ],
            "text/plain": [
              "<IPython.core.display.Javascript object>"
            ]
          },
          "metadata": {},
          "output_type": "display_data"
        },
        {
          "name": "stdout",
          "output_type": "stream",
          "text": [
            "[jovian] Attempting to save notebook..\u001b[0m\n",
            "[jovian] Updating notebook \"aakashns/python-problem-solving-template\" on https://jovian.ai/\u001b[0m\n",
            "[jovian] Uploading notebook..\u001b[0m\n",
            "[jovian] Capturing environment..\u001b[0m\n",
            "[jovian] Committed successfully! https://jovian.ai/aakashns/python-problem-solving-template\u001b[0m\n"
          ]
        },
        {
          "data": {
            "text/plain": [
              "'https://jovian.ai/aakashns/python-problem-solving-template'"
            ]
          },
          "execution_count": 21,
          "metadata": {},
          "output_type": "execute_result"
        }
      ],
      "source": [
        "jovian.commit()"
      ]
    },
    {
      "cell_type": "markdown",
      "id": "c2e96117",
      "metadata": {
        "id": "c2e96117"
      },
      "source": [
        "### 6. Apply the right technique to overcome the inefficiency. Repeat steps 3 to 6."
      ]
    },
    {
      "cell_type": "code",
      "execution_count": null,
      "id": "0b886e95",
      "metadata": {
        "id": "0b886e95"
      },
      "outputs": [],
      "source": []
    },
    {
      "cell_type": "code",
      "execution_count": null,
      "id": "de17ed5d",
      "metadata": {
        "id": "de17ed5d"
      },
      "outputs": [],
      "source": []
    },
    {
      "cell_type": "code",
      "execution_count": null,
      "id": "fc6dde7b",
      "metadata": {
        "id": "fc6dde7b",
        "outputId": "4d5e5129-a64b-457a-d17b-686703a9902e"
      },
      "outputs": [
        {
          "data": {
            "application/javascript": [
              "window.require && require([\"base/js/namespace\"],function(Jupyter){Jupyter.notebook.save_checkpoint()})"
            ],
            "text/plain": [
              "<IPython.core.display.Javascript object>"
            ]
          },
          "metadata": {},
          "output_type": "display_data"
        },
        {
          "name": "stdout",
          "output_type": "stream",
          "text": [
            "[jovian] Attempting to save notebook..\u001b[0m\n",
            "[jovian] Updating notebook \"aakashns/python-problem-solving-template\" on https://jovian.ai/\u001b[0m\n",
            "[jovian] Uploading notebook..\u001b[0m\n",
            "[jovian] Capturing environment..\u001b[0m\n",
            "[jovian] Committed successfully! https://jovian.ai/aakashns/python-problem-solving-template\u001b[0m\n"
          ]
        },
        {
          "data": {
            "text/plain": [
              "'https://jovian.ai/aakashns/python-problem-solving-template'"
            ]
          },
          "execution_count": 20,
          "metadata": {},
          "output_type": "execute_result"
        }
      ],
      "source": [
        "jovian.commit()"
      ]
    },
    {
      "cell_type": "markdown",
      "id": "9c5ca12f",
      "metadata": {
        "id": "9c5ca12f"
      },
      "source": [
        "### 7. Come up with a correct solution for the problem. State it in plain English.\n",
        "\n",
        "Come with the optimized correct solution and explain it in simple words below:\n",
        "\n",
        "1. **???**\n",
        "2. **???**\n",
        "3. **???**\n",
        "4. **???**\n",
        "5. **???**\n",
        "\n",
        "(add more steps if required)\n",
        "\n",
        "\n",
        "Let's save and upload our work before continuing.\n",
        "\n"
      ]
    },
    {
      "cell_type": "code",
      "execution_count": null,
      "id": "55b533d1",
      "metadata": {
        "id": "55b533d1",
        "outputId": "0799f800-9e4a-471d-db37-ca7d3e0ed437"
      },
      "outputs": [
        {
          "data": {
            "application/javascript": [
              "window.require && require([\"base/js/namespace\"],function(Jupyter){Jupyter.notebook.save_checkpoint()})"
            ],
            "text/plain": [
              "<IPython.core.display.Javascript object>"
            ]
          },
          "metadata": {},
          "output_type": "display_data"
        },
        {
          "name": "stdout",
          "output_type": "stream",
          "text": [
            "[jovian] Attempting to save notebook..\u001b[0m\n",
            "[jovian] Updating notebook \"aakashns/python-problem-solving-template\" on https://jovian.ai/\u001b[0m\n",
            "[jovian] Uploading notebook..\u001b[0m\n",
            "[jovian] Capturing environment..\u001b[0m\n",
            "[jovian] Committed successfully! https://jovian.ai/aakashns/python-problem-solving-template\u001b[0m\n"
          ]
        },
        {
          "data": {
            "text/plain": [
              "'https://jovian.ai/aakashns/python-problem-solving-template'"
            ]
          },
          "execution_count": 19,
          "metadata": {},
          "output_type": "execute_result"
        }
      ],
      "source": [
        "jovian.commit()"
      ]
    },
    {
      "cell_type": "code",
      "execution_count": null,
      "id": "7d2c5264",
      "metadata": {
        "id": "7d2c5264"
      },
      "outputs": [],
      "source": []
    },
    {
      "cell_type": "code",
      "execution_count": null,
      "id": "c97e9173",
      "metadata": {
        "id": "c97e9173"
      },
      "outputs": [],
      "source": []
    },
    {
      "cell_type": "code",
      "execution_count": null,
      "id": "758f0684",
      "metadata": {
        "id": "758f0684"
      },
      "outputs": [],
      "source": []
    },
    {
      "cell_type": "markdown",
      "id": "703e061c",
      "metadata": {
        "id": "703e061c"
      },
      "source": [
        "### 8. Implement the solution and test it using example inputs. Fix bugs, if any."
      ]
    },
    {
      "cell_type": "code",
      "execution_count": null,
      "id": "a896416d",
      "metadata": {
        "id": "a896416d"
      },
      "outputs": [],
      "source": []
    },
    {
      "cell_type": "code",
      "execution_count": null,
      "id": "e2e4c2e1",
      "metadata": {
        "id": "e2e4c2e1"
      },
      "outputs": [],
      "source": []
    },
    {
      "cell_type": "code",
      "execution_count": null,
      "id": "364889e9",
      "metadata": {
        "id": "364889e9"
      },
      "outputs": [],
      "source": []
    },
    {
      "cell_type": "code",
      "execution_count": null,
      "id": "229247f5",
      "metadata": {
        "id": "229247f5"
      },
      "outputs": [],
      "source": []
    },
    {
      "cell_type": "markdown",
      "id": "473a4152",
      "metadata": {
        "id": "473a4152"
      },
      "source": [
        "### 9. Analyze the algorithm's complexity and identify inefficiencies, if any."
      ]
    },
    {
      "cell_type": "code",
      "execution_count": null,
      "id": "daa3a18f",
      "metadata": {
        "id": "daa3a18f"
      },
      "outputs": [],
      "source": []
    },
    {
      "cell_type": "code",
      "execution_count": null,
      "id": "ea58b7e7",
      "metadata": {
        "id": "ea58b7e7"
      },
      "outputs": [],
      "source": []
    },
    {
      "cell_type": "code",
      "execution_count": null,
      "id": "7571a66d",
      "metadata": {
        "id": "7571a66d"
      },
      "outputs": [],
      "source": []
    },
    {
      "cell_type": "markdown",
      "id": "7719d237",
      "metadata": {
        "id": "7719d237"
      },
      "source": [
        "If you found the problem on an external platform, you can make a submission to test your solution.\n",
        "\n",
        "Share your approach and start a discussion on the Jovian forum: https://jovian.ai/forum/c/data-structures-and-algorithms-in-python/78"
      ]
    },
    {
      "cell_type": "code",
      "execution_count": null,
      "id": "1c0b7602",
      "metadata": {
        "id": "1c0b7602",
        "outputId": "8c7c4ca5-5cc7-4230-8352-72230fd63a12"
      },
      "outputs": [
        {
          "data": {
            "application/javascript": [
              "window.require && require([\"base/js/namespace\"],function(Jupyter){Jupyter.notebook.save_checkpoint()})"
            ],
            "text/plain": [
              "<IPython.core.display.Javascript object>"
            ]
          },
          "metadata": {},
          "output_type": "display_data"
        },
        {
          "name": "stdout",
          "output_type": "stream",
          "text": [
            "[jovian] Attempting to save notebook..\u001b[0m\n"
          ]
        }
      ],
      "source": [
        "jovian.commit()"
      ]
    },
    {
      "cell_type": "code",
      "execution_count": null,
      "id": "da37978f",
      "metadata": {
        "id": "da37978f"
      },
      "outputs": [],
      "source": []
    }
  ],
  "metadata": {
    "kernelspec": {
      "display_name": "Python 3",
      "language": "python",
      "name": "python3"
    },
    "language_info": {
      "codemirror_mode": {
        "name": "ipython",
        "version": 3
      },
      "file_extension": ".py",
      "mimetype": "text/x-python",
      "name": "python",
      "nbconvert_exporter": "python",
      "pygments_lexer": "ipython3",
      "version": "3.8.6"
    },
    "colab": {
      "provenance": [],
      "include_colab_link": true
    }
  },
  "nbformat": 4,
  "nbformat_minor": 5
}