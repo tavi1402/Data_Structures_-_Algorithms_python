{
  "cells": [
    {
      "cell_type": "markdown",
      "metadata": {
        "id": "view-in-github",
        "colab_type": "text"
      },
      "source": [
        "<a href=\"https://colab.research.google.com/github/tavi1402/Data_Structures_and_algorithms_in_python/blob/main/500_python_graph_algorithms.ipynb\" target=\"_parent\"><img src=\"https://colab.research.google.com/assets/colab-badge.svg\" alt=\"Open In Colab\"/></a>"
      ]
    },
    {
      "cell_type": "markdown",
      "id": "variable-garbage",
      "metadata": {
        "id": "variable-garbage"
      },
      "source": [
        "# Graph Algorithms (BFS, DFS, Shortest Paths) using Python\n",
        "\n",
        "### Part 5 of \"Data Structures and Algorithms in Python\"\n",
        "\n",
        "[Data Structures and Algorithms in Python](https://jovian.ai/learn/data-structures-and-algorithms-in-python) is a beginner-friendly introduction to common data structures (linked lists, stacks, queues, graphs) and algorithms (search, sorting, recursion, dynamic programming) in Python, designed to help you prepare for coding interviews and assessments.\n",
        "\n",
        "Ask questions, get help & participate in discussions on the [course community forum](https://jovian.ai/forum/c/data-structures-and-algorithms-in-python/78). Earn a verified certificate of accomplishment for this course by signing up here: http://pythondsa.com.  \n",
        "\n"
      ]
    },
    {
      "cell_type": "markdown",
      "id": "acceptable-clearance",
      "metadata": {
        "id": "acceptable-clearance"
      },
      "source": [
        "### How to Run the Code\n",
        "\n",
        "The best way to learn the material is to execute the code and experiment with it yourself. This tutorial is an executable [Jupyter notebook](https://jupyter.org). You can _run_ this tutorial and experiment with the code examples in a couple of ways: *using free online resources* (recommended) or *on your computer*.\n",
        "\n",
        "#### Option 1: Running using free online resources (1-click, recommended)\n",
        "\n",
        "The easiest way to start executing the code is to click the **Run** button at the top of this page and select **Run on Binder**. You can also select \"Run on Colab\" or \"Run on Kaggle\", but you'll need to create an account on [Google Colab](https://colab.research.google.com) or [Kaggle](https://kaggle.com) to use these platforms.\n",
        "\n",
        "\n",
        "#### Option 2: Running on your computer locally\n",
        "\n",
        "To run the code on your computer locally, you'll need to set up [Python](https://www.python.org), download the notebook and install the required libraries. We recommend using the [Conda](https://docs.conda.io/projects/conda/en/latest/user-guide/install/) distribution of Python. Click the **Run** button at the top of this page, select the **Run Locally** option, and follow the instructions.\n",
        "\n"
      ]
    },
    {
      "cell_type": "markdown",
      "id": "polyphonic-brisbane",
      "metadata": {
        "id": "polyphonic-brisbane"
      },
      "source": [
        "## Graphs in the Real World\n",
        "\n",
        "### Railway network\n",
        "\n",
        "![](https://i.imgur.com/uSF6AEJ.png)\n",
        "\n",
        "### Flight routes\n",
        "\n",
        "![](https://www.mapsales.com/products/mapsofworld/images/zoom/world-air-route-wall-map.gif)\n",
        "\n",
        "### Hyperlinks\n",
        "\n",
        "![](https://i.imgur.com/hlGDYn2.png)"
      ]
    },
    {
      "cell_type": "markdown",
      "id": "stretch-superior",
      "metadata": {
        "id": "stretch-superior"
      },
      "source": [
        "## Graph Data Strucutre\n",
        "\n",
        "![](https://i.imgur.com/xkgMnwx.png)\n",
        "\n"
      ]
    },
    {
      "cell_type": "code",
      "execution_count": null,
      "id": "settled-medicaid",
      "metadata": {
        "id": "settled-medicaid"
      },
      "outputs": [],
      "source": []
    },
    {
      "cell_type": "markdown",
      "id": "white-outdoors",
      "metadata": {
        "id": "white-outdoors"
      },
      "source": [
        "### Adjacency Lists\n",
        "\n",
        "![](https://i.imgur.com/rgMwkIW.png)\n",
        "\n",
        "\n",
        "> **Question**: Create a class to represent a graph as an adjacency list in Python"
      ]
    },
    {
      "cell_type": "code",
      "execution_count": null,
      "id": "premium-prison",
      "metadata": {
        "id": "premium-prison"
      },
      "outputs": [],
      "source": []
    },
    {
      "cell_type": "code",
      "execution_count": null,
      "id": "improving-section",
      "metadata": {
        "id": "improving-section"
      },
      "outputs": [],
      "source": []
    },
    {
      "cell_type": "code",
      "execution_count": null,
      "id": "speaking-routine",
      "metadata": {
        "id": "speaking-routine"
      },
      "outputs": [],
      "source": []
    },
    {
      "cell_type": "code",
      "execution_count": null,
      "id": "viral-pendant",
      "metadata": {
        "id": "viral-pendant"
      },
      "outputs": [],
      "source": []
    },
    {
      "cell_type": "markdown",
      "id": "english-action",
      "metadata": {
        "id": "english-action"
      },
      "source": [
        "> **Question**: Write a function to add an edge to a graph represented as an adjacency list.\n",
        "\n",
        "> **Question**: Write a function to remove an edge from a graph represented as a adjacency list.\n"
      ]
    },
    {
      "cell_type": "code",
      "execution_count": null,
      "id": "signed-manor",
      "metadata": {
        "id": "signed-manor"
      },
      "outputs": [],
      "source": []
    },
    {
      "cell_type": "code",
      "execution_count": null,
      "id": "nasty-alberta",
      "metadata": {
        "id": "nasty-alberta"
      },
      "outputs": [],
      "source": [
        "!pip install jovian --upgrade --quiet"
      ]
    },
    {
      "cell_type": "code",
      "execution_count": null,
      "id": "renewable-consumption",
      "metadata": {
        "id": "renewable-consumption"
      },
      "outputs": [],
      "source": [
        "import jovian"
      ]
    },
    {
      "cell_type": "code",
      "execution_count": null,
      "id": "collaborative-reduction",
      "metadata": {
        "id": "collaborative-reduction",
        "outputId": "c67d85dc-8ef4-4960-b3dd-685048779371"
      },
      "outputs": [
        {
          "data": {
            "application/javascript": [
              "window.require && require([\"base/js/namespace\"],function(Jupyter){Jupyter.notebook.save_checkpoint()})"
            ],
            "text/plain": [
              "<IPython.core.display.Javascript object>"
            ]
          },
          "metadata": {},
          "output_type": "display_data"
        },
        {
          "name": "stdout",
          "output_type": "stream",
          "text": [
            "[jovian] Attempting to save notebook..\u001b[0m\n",
            "[jovian] Updating notebook \"aakashns/python-graph-algorithms\" on https://jovian.ai/\u001b[0m\n",
            "[jovian] Uploading notebook..\u001b[0m\n",
            "[jovian] Capturing environment..\u001b[0m\n",
            "[jovian] Committed successfully! https://jovian.ai/aakashns/python-graph-algorithms\u001b[0m\n"
          ]
        },
        {
          "data": {
            "text/plain": [
              "'https://jovian.ai/aakashns/python-graph-algorithms'"
            ]
          },
          "execution_count": 4,
          "metadata": {},
          "output_type": "execute_result"
        }
      ],
      "source": [
        "jovian.commit()"
      ]
    },
    {
      "cell_type": "markdown",
      "id": "potential-native",
      "metadata": {
        "id": "potential-native"
      },
      "source": [
        "### Adjacency Matrix\n",
        "\n",
        "![](https://i.imgur.com/oswYKTW.png)\n",
        "\n",
        "> **Question**: Represent a graph as an adjacency matrix in Python"
      ]
    },
    {
      "cell_type": "code",
      "execution_count": null,
      "id": "sensitive-iraqi",
      "metadata": {
        "id": "sensitive-iraqi"
      },
      "outputs": [],
      "source": []
    },
    {
      "cell_type": "code",
      "execution_count": null,
      "id": "alleged-means",
      "metadata": {
        "id": "alleged-means"
      },
      "outputs": [],
      "source": []
    },
    {
      "cell_type": "code",
      "execution_count": null,
      "id": "modified-check",
      "metadata": {
        "id": "modified-check"
      },
      "outputs": [],
      "source": []
    },
    {
      "cell_type": "code",
      "execution_count": null,
      "id": "tutorial-massage",
      "metadata": {
        "id": "tutorial-massage"
      },
      "outputs": [],
      "source": []
    },
    {
      "cell_type": "code",
      "execution_count": null,
      "id": "common-gossip",
      "metadata": {
        "id": "common-gossip"
      },
      "outputs": [],
      "source": []
    },
    {
      "cell_type": "markdown",
      "id": "spatial-howard",
      "metadata": {
        "id": "spatial-howard"
      },
      "source": [
        "## Graph Traversal\n",
        "\n",
        "\n",
        "### Breadth-First Search\n",
        "\n",
        "A real-world graph:\n",
        "\n",
        "![](https://upload.wikimedia.org/wikipedia/commons/thumb/a/ad/MapGermanyGraph.svg/500px-MapGermanyGraph.svg.png)\n",
        "\n",
        "Breadth-fist search tree (starting from Frankfurt):\n",
        "\n",
        "![](https://upload.wikimedia.org/wikipedia/commons/thumb/6/63/GermanyBFS.svg/500px-GermanyBFS.svg.png)\n",
        "\n",
        "> **Question**: Implement breadth-first search given a source node in a graph using Python.\n",
        "\n",
        "\n",
        "<img src=\"https://i.imgur.com/E2Up1Pk.png\" width=\"400\">\n",
        "\n",
        "BFS pseudocode (Wikipedia):\n",
        "\n",
        "```\n",
        " 1  procedure BFS(G, root) is\n",
        " 2      let Q be a queue\n",
        " 3      label root as discovered\n",
        " 4      Q.enqueue(root)\n",
        " 5      while Q is not empty do\n",
        " 6          v := Q.dequeue()\n",
        " 7          if v is the goal then\n",
        " 8              return v\n",
        " 9          for all edges from v to w in G.adjacentEdges(v) do\n",
        "10              if w is not labeled as discovered then\n",
        "11                  label w as discovered\n",
        "12                  Q.enqueue(w)\n",
        "```\n",
        "\n"
      ]
    },
    {
      "cell_type": "code",
      "execution_count": null,
      "id": "electoral-religious",
      "metadata": {
        "id": "electoral-religious"
      },
      "outputs": [],
      "source": []
    },
    {
      "cell_type": "markdown",
      "id": "czech-encounter",
      "metadata": {
        "id": "czech-encounter"
      },
      "source": [
        "<img src=\"https://cdn.programiz.com/sites/tutorial2program/files/queue-implementation.png\" width=\"400\">"
      ]
    },
    {
      "cell_type": "code",
      "execution_count": null,
      "id": "animated-physiology",
      "metadata": {
        "id": "animated-physiology"
      },
      "outputs": [],
      "source": []
    },
    {
      "cell_type": "code",
      "execution_count": null,
      "id": "disabled-washington",
      "metadata": {
        "id": "disabled-washington"
      },
      "outputs": [],
      "source": []
    },
    {
      "cell_type": "code",
      "execution_count": null,
      "id": "abstract-gibraltar",
      "metadata": {
        "id": "abstract-gibraltar"
      },
      "outputs": [],
      "source": [
        "import jovian"
      ]
    },
    {
      "cell_type": "code",
      "execution_count": null,
      "id": "portuguese-consequence",
      "metadata": {
        "id": "portuguese-consequence",
        "outputId": "bab6c6e7-3237-41c5-c5be-ef41d16e683d"
      },
      "outputs": [
        {
          "data": {
            "application/javascript": [
              "window.require && require([\"base/js/namespace\"],function(Jupyter){Jupyter.notebook.save_checkpoint()})"
            ],
            "text/plain": [
              "<IPython.core.display.Javascript object>"
            ]
          },
          "metadata": {},
          "output_type": "display_data"
        },
        {
          "name": "stdout",
          "output_type": "stream",
          "text": [
            "[jovian] Attempting to save notebook..\u001b[0m\n",
            "[jovian] Updating notebook \"aakashns/python-graph-algorithms\" on https://jovian.ai/\u001b[0m\n",
            "[jovian] Uploading notebook..\u001b[0m\n",
            "[jovian] Capturing environment..\u001b[0m\n",
            "[jovian] Committed successfully! https://jovian.ai/aakashns/python-graph-algorithms\u001b[0m\n"
          ]
        },
        {
          "data": {
            "text/plain": [
              "'https://jovian.ai/aakashns/python-graph-algorithms'"
            ]
          },
          "execution_count": 6,
          "metadata": {},
          "output_type": "execute_result"
        }
      ],
      "source": [
        "jovian.commit()"
      ]
    },
    {
      "cell_type": "markdown",
      "id": "synthetic-defense",
      "metadata": {
        "id": "synthetic-defense"
      },
      "source": [
        "> **Question**: Write a program to check if all the nodes in a graph are connected\n",
        "\n",
        "![](http://www.martinbroadhurst.com/images/connected_components.png)"
      ]
    },
    {
      "cell_type": "code",
      "execution_count": null,
      "id": "premium-cincinnati",
      "metadata": {
        "id": "premium-cincinnati",
        "outputId": "b959632d-05c9-4640-84c5-cefd6e999f69"
      },
      "outputs": [
        {
          "data": {
            "text/plain": [
              "(9, 8)"
            ]
          },
          "execution_count": 24,
          "metadata": {},
          "output_type": "execute_result"
        }
      ],
      "source": [
        "num_nodes3 = 9\n",
        "edges3 = [(0, 1), (0, 3), (1, 2), (2, 3), (4, 5), (4, 6), (5, 6), (7, 8)]\n",
        "num_nodes3, len(edges3)"
      ]
    },
    {
      "cell_type": "code",
      "execution_count": null,
      "id": "dominican-louisville",
      "metadata": {
        "id": "dominican-louisville"
      },
      "outputs": [],
      "source": []
    },
    {
      "cell_type": "code",
      "execution_count": null,
      "id": "agreed-damage",
      "metadata": {
        "id": "agreed-damage"
      },
      "outputs": [],
      "source": []
    },
    {
      "cell_type": "code",
      "execution_count": null,
      "id": "greatest-selection",
      "metadata": {
        "id": "greatest-selection"
      },
      "outputs": [],
      "source": []
    },
    {
      "cell_type": "code",
      "execution_count": null,
      "id": "proper-personality",
      "metadata": {
        "id": "proper-personality"
      },
      "outputs": [],
      "source": []
    },
    {
      "cell_type": "markdown",
      "id": "parliamentary-veteran",
      "metadata": {
        "id": "parliamentary-veteran"
      },
      "source": [
        "## Depth-first search\n",
        "\n",
        "![](https://upload.wikimedia.org/wikipedia/commons/thumb/7/7f/Depth-First-Search.gif/440px-Depth-First-Search.gif)\n",
        "\n",
        "\n",
        "> **Question**: Implement depth first search from a given node in a graph using Python.\n",
        "\n",
        "<img src=\"https://i.imgur.com/E2Up1Pk.png\" width=\"400\">\n",
        "\n",
        "DFS pseudocode (Wikipedia):\n",
        "\n",
        "```\n",
        "procedure DFS_iterative(G, v) is\n",
        "    let S be a stack\n",
        "    S.push(v)\n",
        "    while S is not empty do\n",
        "        v = S.pop()\n",
        "        if v is not labeled as discovered then\n",
        "            label v as discovered\n",
        "            for all edges from v to w in G.adjacentEdges(v) do\n",
        "                S.push(w)\n",
        "```\n",
        "\n",
        "\n"
      ]
    },
    {
      "cell_type": "code",
      "execution_count": null,
      "id": "elect-montana",
      "metadata": {
        "id": "elect-montana"
      },
      "outputs": [],
      "source": []
    },
    {
      "cell_type": "markdown",
      "id": "descending-amber",
      "metadata": {
        "id": "descending-amber"
      },
      "source": [
        "<img src=\"https://cdn.programiz.com/sites/tutorial2program/files/stack.png\" width=\"400\">"
      ]
    },
    {
      "cell_type": "code",
      "execution_count": null,
      "id": "informal-christmas",
      "metadata": {
        "id": "informal-christmas"
      },
      "outputs": [],
      "source": []
    },
    {
      "cell_type": "code",
      "execution_count": null,
      "id": "arabic-machine",
      "metadata": {
        "id": "arabic-machine"
      },
      "outputs": [],
      "source": []
    },
    {
      "cell_type": "code",
      "execution_count": null,
      "id": "forward-department",
      "metadata": {
        "id": "forward-department"
      },
      "outputs": [],
      "source": []
    },
    {
      "cell_type": "code",
      "execution_count": null,
      "id": "contained-version",
      "metadata": {
        "id": "contained-version"
      },
      "outputs": [],
      "source": []
    },
    {
      "cell_type": "code",
      "execution_count": null,
      "id": "lesser-opinion",
      "metadata": {
        "id": "lesser-opinion"
      },
      "outputs": [],
      "source": [
        "import jovian"
      ]
    },
    {
      "cell_type": "code",
      "execution_count": null,
      "id": "hungry-increase",
      "metadata": {
        "id": "hungry-increase",
        "outputId": "45db1ef9-cc0f-43ee-8c32-5a67f424da2a"
      },
      "outputs": [
        {
          "data": {
            "application/javascript": [
              "window.require && require([\"base/js/namespace\"],function(Jupyter){Jupyter.notebook.save_checkpoint()})"
            ],
            "text/plain": [
              "<IPython.core.display.Javascript object>"
            ]
          },
          "metadata": {},
          "output_type": "display_data"
        },
        {
          "name": "stdout",
          "output_type": "stream",
          "text": [
            "[jovian] Attempting to save notebook..\u001b[0m\n",
            "[jovian] Updating notebook \"aakashns/python-graph-algorithms\" on https://jovian.ai/\u001b[0m\n",
            "[jovian] Uploading notebook..\u001b[0m\n",
            "[jovian] Capturing environment..\u001b[0m\n",
            "[jovian] Committed successfully! https://jovian.ai/aakashns/python-graph-algorithms\u001b[0m\n"
          ]
        },
        {
          "data": {
            "text/plain": [
              "'https://jovian.ai/aakashns/python-graph-algorithms'"
            ]
          },
          "execution_count": 8,
          "metadata": {},
          "output_type": "execute_result"
        }
      ],
      "source": [
        "jovian.commit()"
      ]
    },
    {
      "cell_type": "markdown",
      "id": "together-blogger",
      "metadata": {
        "id": "together-blogger"
      },
      "source": [
        "> **Question**: Write a function to detect a cycle in a graph\n",
        "\n",
        "![](https://tutorialspoint.dev/image/cycleGraph.png)"
      ]
    },
    {
      "cell_type": "code",
      "execution_count": null,
      "id": "small-buyer",
      "metadata": {
        "id": "small-buyer"
      },
      "outputs": [],
      "source": []
    },
    {
      "cell_type": "code",
      "execution_count": null,
      "id": "daily-warrior",
      "metadata": {
        "id": "daily-warrior"
      },
      "outputs": [],
      "source": []
    },
    {
      "cell_type": "code",
      "execution_count": null,
      "id": "dried-reform",
      "metadata": {
        "id": "dried-reform"
      },
      "outputs": [],
      "source": []
    },
    {
      "cell_type": "markdown",
      "id": "broke-carroll",
      "metadata": {
        "id": "broke-carroll"
      },
      "source": [
        "### Weighted Graphs\n",
        "\n",
        "![](https://i.imgur.com/wy7ZHRW.png)\n",
        "\n"
      ]
    },
    {
      "cell_type": "code",
      "execution_count": null,
      "id": "eligible-equipment",
      "metadata": {
        "id": "eligible-equipment",
        "outputId": "79755551-9915-41a0-90cf-a3e4240cf2fc"
      },
      "outputs": [
        {
          "data": {
            "text/plain": [
              "(9, 10)"
            ]
          },
          "execution_count": 11,
          "metadata": {},
          "output_type": "execute_result"
        }
      ],
      "source": [
        "# Graph with weights\n",
        "num_nodes5 = 9\n",
        "edges5 = [(0, 1, 3), (0, 3, 2), (0, 8, 4), (1, 7, 4), (2, 7, 2), (2, 3, 6),\n",
        "          (2, 5, 1), (3, 4, 1), (4, 8, 8), (5, 6, 8)]\n",
        "\n",
        "num_nodes5, len(edges5)"
      ]
    },
    {
      "cell_type": "markdown",
      "id": "abstract-return",
      "metadata": {
        "id": "abstract-return"
      },
      "source": [
        "### Directed Graphs\n",
        "\n",
        "<img src=\"https://i.imgur.com/8AN7EUV.png\" width=\"480\">"
      ]
    },
    {
      "cell_type": "code",
      "execution_count": null,
      "id": "fitted-kruger",
      "metadata": {
        "id": "fitted-kruger",
        "outputId": "224a2a2a-a74c-4378-d51e-f3026d02dc12"
      },
      "outputs": [
        {
          "data": {
            "text/plain": [
              "(5, 6)"
            ]
          },
          "execution_count": 12,
          "metadata": {},
          "output_type": "execute_result"
        }
      ],
      "source": [
        "num_nodes6 = 5\n",
        "edges6 = [(0, 1), (1, 2), (2, 3), (2, 4), (4, 2), (3, 0)]\n",
        "num_nodes6, len(edges6)"
      ]
    },
    {
      "cell_type": "markdown",
      "id": "saved-pittsburgh",
      "metadata": {
        "id": "saved-pittsburgh"
      },
      "source": [
        "> **Question**: Define a class to represent weighted and directed graphs in Python."
      ]
    },
    {
      "cell_type": "code",
      "execution_count": null,
      "id": "affected-essence",
      "metadata": {
        "id": "affected-essence"
      },
      "outputs": [],
      "source": []
    },
    {
      "cell_type": "code",
      "execution_count": null,
      "id": "promotional-fiction",
      "metadata": {
        "id": "promotional-fiction"
      },
      "outputs": [],
      "source": []
    },
    {
      "cell_type": "code",
      "execution_count": null,
      "id": "virgin-impact",
      "metadata": {
        "id": "virgin-impact"
      },
      "outputs": [],
      "source": []
    },
    {
      "cell_type": "code",
      "execution_count": null,
      "id": "exempt-stone",
      "metadata": {
        "id": "exempt-stone"
      },
      "outputs": [],
      "source": [
        "import jovian"
      ]
    },
    {
      "cell_type": "code",
      "execution_count": null,
      "id": "chronic-uzbekistan",
      "metadata": {
        "id": "chronic-uzbekistan",
        "outputId": "26cb7887-bf4e-484b-add7-ffb7e30151b8"
      },
      "outputs": [
        {
          "data": {
            "application/javascript": [
              "window.require && require([\"base/js/namespace\"],function(Jupyter){Jupyter.notebook.save_checkpoint()})"
            ],
            "text/plain": [
              "<IPython.core.display.Javascript object>"
            ]
          },
          "metadata": {},
          "output_type": "display_data"
        },
        {
          "name": "stdout",
          "output_type": "stream",
          "text": [
            "[jovian] Attempting to save notebook..\u001b[0m\n",
            "[jovian] Updating notebook \"aakashns/python-graph-algorithms\" on https://jovian.ai/\u001b[0m\n",
            "[jovian] Uploading notebook..\u001b[0m\n",
            "[jovian] Capturing environment..\u001b[0m\n",
            "[jovian] Committed successfully! https://jovian.ai/aakashns/python-graph-algorithms\u001b[0m\n"
          ]
        },
        {
          "data": {
            "text/plain": [
              "'https://jovian.ai/aakashns/python-graph-algorithms'"
            ]
          },
          "execution_count": 14,
          "metadata": {},
          "output_type": "execute_result"
        }
      ],
      "source": [
        "jovian.commit()"
      ]
    },
    {
      "cell_type": "markdown",
      "id": "posted-peripheral",
      "metadata": {
        "id": "posted-peripheral"
      },
      "source": [
        "## Shortest Paths\n",
        "\n",
        "\n",
        "> **Question**: Write a function to find the length of the shortest path between two nodes in a weighted directed graph.\n",
        "\n",
        "<img src=\"https://i.imgur.com/Zn5cUkO.png\" width=\"480\">\n",
        "\n",
        "\n",
        "**Dijkstra's algorithm (Wikipedia)**:\n",
        "\n",
        "![](https://upload.wikimedia.org/wikipedia/commons/5/57/Dijkstra_Animation.gif)\n",
        "\n",
        "1. Mark all nodes unvisited. Create a set of all the unvisited nodes called the unvisited set.\n",
        "2. Assign to every node a tentative distance value: set it to zero for our initial node and to infinity for all other nodes. Set the initial node as current.[16]\n",
        "3. For the current node, consider all of its unvisited neighbours and calculate their tentative distances through the current node. Compare the newly calculated tentative distance to the current assigned value and assign the smaller one. For example, if the current node A is marked with a distance of 6, and the edge connecting it with a neighbour B has length 2, then the distance to B through A will be 6 + 2 = 8. If B was previously marked with a distance greater than 8 then change it to 8. Otherwise, the current value will be kept.\n",
        "4. When we are done considering all of the unvisited neighbours of the current node, mark the current node as visited and remove it from the unvisited set. A visited node will never be checked again.\n",
        "5. If the destination node has been marked visited (when planning a route between two specific nodes) or if the smallest tentative distance among the nodes in the unvisited set is infinity (when planning a complete traversal; occurs when there is no connection between the initial node and remaining unvisited nodes), then stop. The algorithm has finished.\n",
        "6. Otherwise, select the unvisited node that is marked with the smallest tentative distance, set it as the new \"current node\", and go back to step 3."
      ]
    },
    {
      "cell_type": "code",
      "execution_count": null,
      "id": "certain-today",
      "metadata": {
        "id": "certain-today"
      },
      "outputs": [],
      "source": [
        "def update_distances(graph, current, distance, parent=None):\n",
        "    \"\"\"Update the distances of the current node's neighbors\"\"\"\n",
        "    neighbors = graph.data[current]\n",
        "    weights = graph.weight[current]\n",
        "    for i, node in enumerate(neighbors):\n",
        "        weight = weights[i]\n",
        "        if distance[current] + weight < distance[node]:\n",
        "            distance[node] = distance[current] + weight\n",
        "            if parent:\n",
        "                parent[node] = current\n",
        "\n",
        "def pick_next_node(distance, visited):\n",
        "    \"\"\"Pick the next univisited node at the smallest distance\"\"\"\n",
        "    min_distance = float('inf')\n",
        "    min_node = None\n",
        "    for node in range(len(distance)):\n",
        "        if not visited[node] and distance[node] < min_distance:\n",
        "            min_node = node\n",
        "            min_distance = distance[node]\n",
        "    return min_node"
      ]
    },
    {
      "cell_type": "code",
      "execution_count": null,
      "id": "apparent-decrease",
      "metadata": {
        "id": "apparent-decrease"
      },
      "outputs": [],
      "source": []
    },
    {
      "cell_type": "code",
      "execution_count": null,
      "id": "spare-glossary",
      "metadata": {
        "id": "spare-glossary"
      },
      "outputs": [],
      "source": []
    },
    {
      "cell_type": "code",
      "execution_count": null,
      "id": "adopted-creek",
      "metadata": {
        "id": "adopted-creek",
        "outputId": "3199661b-efa0-478a-d52b-07d323a40996"
      },
      "outputs": [
        {
          "data": {
            "text/plain": [
              "(6, 7)"
            ]
          },
          "execution_count": 28,
          "metadata": {},
          "output_type": "execute_result"
        }
      ],
      "source": [
        "num_nodes7 = 6\n",
        "edges7 = [(0, 1, 4), (0, 2, 2), (1, 2, 5), (1, 3, 10), (2, 4, 3), (4, 3, 4), (3, 5, 11)]\n",
        "num_nodes7, len(edges7)"
      ]
    },
    {
      "cell_type": "code",
      "execution_count": null,
      "id": "spatial-engagement",
      "metadata": {
        "id": "spatial-engagement"
      },
      "outputs": [],
      "source": []
    },
    {
      "cell_type": "code",
      "execution_count": null,
      "id": "specific-champagne",
      "metadata": {
        "id": "specific-champagne"
      },
      "outputs": [],
      "source": []
    },
    {
      "cell_type": "code",
      "execution_count": null,
      "id": "right-kenya",
      "metadata": {
        "id": "right-kenya"
      },
      "outputs": [],
      "source": []
    },
    {
      "cell_type": "code",
      "execution_count": null,
      "id": "foreign-malpractice",
      "metadata": {
        "id": "foreign-malpractice"
      },
      "outputs": [],
      "source": [
        "import jovian"
      ]
    },
    {
      "cell_type": "code",
      "execution_count": null,
      "id": "reserved-investor",
      "metadata": {
        "id": "reserved-investor",
        "outputId": "56dbe93f-f529-4a1d-b00d-7363017d51a3"
      },
      "outputs": [
        {
          "data": {
            "application/javascript": [
              "window.require && require([\"base/js/namespace\"],function(Jupyter){Jupyter.notebook.save_checkpoint()})"
            ],
            "text/plain": [
              "<IPython.core.display.Javascript object>"
            ]
          },
          "metadata": {},
          "output_type": "display_data"
        },
        {
          "name": "stdout",
          "output_type": "stream",
          "text": [
            "[jovian] Attempting to save notebook..\u001b[0m\n",
            "[jovian] Updating notebook \"aakashns/python-graph-algorithms\" on https://jovian.ai/\u001b[0m\n",
            "[jovian] Uploading notebook..\u001b[0m\n",
            "[jovian] Capturing environment..\u001b[0m\n",
            "[jovian] Committed successfully! https://jovian.ai/aakashns/python-graph-algorithms\u001b[0m\n"
          ]
        },
        {
          "data": {
            "text/plain": [
              "'https://jovian.ai/aakashns/python-graph-algorithms'"
            ]
          },
          "execution_count": 92,
          "metadata": {},
          "output_type": "execute_result"
        }
      ],
      "source": [
        "jovian.commit()"
      ]
    },
    {
      "cell_type": "markdown",
      "id": "coordinate-circle",
      "metadata": {
        "id": "coordinate-circle"
      },
      "source": [
        "### Binary Heap\n",
        "\n",
        "A data structure to maintain the running minimum/maximum of a set of numbers, supporting efficient addition/removal.\n",
        "\n",
        "\n",
        "<img src=\"https://i.imgur.com/ABAcM7m.png\" width=\"400\">\n",
        "\n",
        "\n",
        "Heap operations:\n",
        "\n",
        "- Insertion - $O(log N)$\n",
        "- Min/Max - $O(1)$ (depending on type of heap)\n",
        "- Deletion - $O(log N)$\n",
        "- Convert a list to a heap - $O(n)$\n",
        "\n",
        "\n",
        "Python's built-in heap: https://docs.python.org/3/library/heapq.html\n",
        "\n",
        "> **Question**: Implement Dijkstra's shortest path algorithm using the `heap` module from Python. What is the complexity of the algorithm?"
      ]
    },
    {
      "cell_type": "code",
      "execution_count": null,
      "id": "north-administrator",
      "metadata": {
        "id": "north-administrator"
      },
      "outputs": [],
      "source": []
    },
    {
      "cell_type": "code",
      "execution_count": null,
      "id": "latter-sunday",
      "metadata": {
        "id": "latter-sunday"
      },
      "outputs": [],
      "source": []
    },
    {
      "cell_type": "markdown",
      "id": "pointed-diabetes",
      "metadata": {
        "id": "pointed-diabetes"
      },
      "source": [
        "### More Problems\n",
        "\n",
        "Solve more graph problems here: https://leetcode.com/tag/graph/"
      ]
    },
    {
      "cell_type": "code",
      "execution_count": null,
      "id": "banner-canadian",
      "metadata": {
        "id": "banner-canadian"
      },
      "outputs": [],
      "source": [
        "import jovian"
      ]
    },
    {
      "cell_type": "code",
      "execution_count": null,
      "id": "union-chambers",
      "metadata": {
        "id": "union-chambers",
        "outputId": "4916e8da-4f34-4e83-f5e8-8659045406b6"
      },
      "outputs": [
        {
          "data": {
            "application/javascript": [
              "window.require && require([\"base/js/namespace\"],function(Jupyter){Jupyter.notebook.save_checkpoint()})"
            ],
            "text/plain": [
              "<IPython.core.display.Javascript object>"
            ]
          },
          "metadata": {},
          "output_type": "display_data"
        },
        {
          "name": "stdout",
          "output_type": "stream",
          "text": [
            "[jovian] Attempting to save notebook..\u001b[0m\n",
            "[jovian] Updating notebook \"aakashns/python-graph-algorithms\" on https://jovian.ai/\u001b[0m\n",
            "[jovian] Uploading notebook..\u001b[0m\n",
            "[jovian] Capturing environment..\u001b[0m\n",
            "[jovian] Committed successfully! https://jovian.ai/aakashns/python-graph-algorithms\u001b[0m\n"
          ]
        },
        {
          "data": {
            "text/plain": [
              "'https://jovian.ai/aakashns/python-graph-algorithms'"
            ]
          },
          "execution_count": 94,
          "metadata": {},
          "output_type": "execute_result"
        }
      ],
      "source": [
        "jovian.commit()"
      ]
    },
    {
      "cell_type": "code",
      "execution_count": null,
      "id": "existing-hospital",
      "metadata": {
        "id": "existing-hospital"
      },
      "outputs": [],
      "source": []
    },
    {
      "cell_type": "code",
      "execution_count": null,
      "id": "tribal-brand",
      "metadata": {
        "id": "tribal-brand"
      },
      "outputs": [],
      "source": []
    },
    {
      "cell_type": "markdown",
      "id": "ethical-marathon",
      "metadata": {
        "id": "ethical-marathon"
      },
      "source": [
        "## Solutions\n",
        "\n",
        "![](https://i.imgur.com/E2Up1Pk.png)"
      ]
    },
    {
      "cell_type": "markdown",
      "id": "desirable-possibility",
      "metadata": {
        "id": "desirable-possibility"
      },
      "source": [
        "### Input Data"
      ]
    },
    {
      "cell_type": "code",
      "execution_count": null,
      "id": "according-lunch",
      "metadata": {
        "id": "according-lunch",
        "outputId": "908dd937-aaf9-432b-c000-58b6767c6d1c"
      },
      "outputs": [
        {
          "data": {
            "text/plain": [
              "(5, 7)"
            ]
          },
          "execution_count": 26,
          "metadata": {},
          "output_type": "execute_result"
        }
      ],
      "source": [
        "num_nodes1 = 5\n",
        "edges1 = [(0, 1), (1, 2), (2, 3), (3, 4), (4, 0), (1, 4), (1, 3)]\n",
        "num_nodes1, len(edges1)"
      ]
    },
    {
      "cell_type": "code",
      "execution_count": null,
      "id": "italian-armor",
      "metadata": {
        "id": "italian-armor",
        "outputId": "33d8426c-33e4-4ba0-e067-ffcaadea91f3"
      },
      "outputs": [
        {
          "data": {
            "text/plain": [
              "(9, 8)"
            ]
          },
          "execution_count": 25,
          "metadata": {},
          "output_type": "execute_result"
        }
      ],
      "source": [
        "num_nodes3 = 9\n",
        "edges3 = [(0, 1), (0, 3), (1, 2), (2, 3), (4, 5), (4, 6), (5, 6), (7, 8)]\n",
        "num_nodes3, len(edges3)"
      ]
    },
    {
      "cell_type": "code",
      "execution_count": null,
      "id": "strategic-deposit",
      "metadata": {
        "id": "strategic-deposit",
        "outputId": "f0344ace-722c-49b3-b9c4-0100d7bd10bf"
      },
      "outputs": [
        {
          "data": {
            "text/plain": [
              "(9, 10)"
            ]
          },
          "execution_count": 15,
          "metadata": {},
          "output_type": "execute_result"
        }
      ],
      "source": [
        "num_nodes5 = 9\n",
        "edges5 = [(0, 1, 3), (0, 3, 2), (0, 8, 4), (1, 7, 4), (2, 7, 2), (2, 3, 6),\n",
        "          (2, 5, 1), (3, 4, 1), (4, 8, 8), (5, 6, 8)]\n",
        "\n",
        "num_nodes5, len(edges5)"
      ]
    },
    {
      "cell_type": "code",
      "execution_count": null,
      "id": "broke-hungarian",
      "metadata": {
        "id": "broke-hungarian",
        "outputId": "3713f9b6-c5aa-49c1-9d88-d758038f3284"
      },
      "outputs": [
        {
          "data": {
            "text/plain": [
              "(5, 6)"
            ]
          },
          "execution_count": 16,
          "metadata": {},
          "output_type": "execute_result"
        }
      ],
      "source": [
        "# Directed graph\n",
        "num_nodes6 = 5\n",
        "edges6 = [(0, 1), (1, 2), (2, 3), (2, 4), (4, 2), (3, 0)]\n",
        "num_nodes6, len(edges6)"
      ]
    },
    {
      "cell_type": "code",
      "execution_count": null,
      "id": "instructional-sarah",
      "metadata": {
        "id": "instructional-sarah",
        "outputId": "2f8c1794-0ce6-459a-af0e-1b9fde320965"
      },
      "outputs": [
        {
          "data": {
            "text/plain": [
              "(6, 7)"
            ]
          },
          "execution_count": 29,
          "metadata": {},
          "output_type": "execute_result"
        }
      ],
      "source": [
        "num_nodes7 = 6\n",
        "edges7 = [(0, 1, 4), (0, 2, 2), (1, 2, 5), (1, 3, 10), (2, 4, 3), (4, 3, 4), (3, 5, 11)]\n",
        "num_nodes7, len(edges7)"
      ]
    },
    {
      "cell_type": "markdown",
      "id": "homeless-hawaii",
      "metadata": {
        "id": "homeless-hawaii"
      },
      "source": [
        "### Adjacency List"
      ]
    },
    {
      "cell_type": "code",
      "execution_count": null,
      "id": "promising-atlantic",
      "metadata": {
        "id": "promising-atlantic"
      },
      "outputs": [],
      "source": [
        "class Graph:\n",
        "    def __init__(self, num_nodes, edges):\n",
        "        self.data = [[] for _ in range(num_nodes)]\n",
        "        for v1, v2 in edges:\n",
        "            self.data[v1].append(v2)\n",
        "            self.data[v2].append(v1)\n",
        "\n",
        "    def __repr__(self):\n",
        "        return \"\\n\".join([\"{} : {}\".format(i, neighbors) for (i, neighbors) in enumerate(self.data)])\n",
        "\n",
        "    def __str__(self):\n",
        "        return repr(self)"
      ]
    },
    {
      "cell_type": "code",
      "execution_count": null,
      "id": "buried-brake",
      "metadata": {
        "id": "buried-brake"
      },
      "outputs": [],
      "source": [
        "g1 = Graph(num_nodes1, edges1)"
      ]
    },
    {
      "cell_type": "code",
      "execution_count": null,
      "id": "honey-tension",
      "metadata": {
        "id": "honey-tension",
        "outputId": "9dbd8ff8-df61-45fa-f58c-861a8488c76e"
      },
      "outputs": [
        {
          "data": {
            "text/plain": [
              "0 : [1, 4]\n",
              "1 : [0, 2, 4, 3]\n",
              "2 : [1, 3]\n",
              "3 : [2, 4, 1]\n",
              "4 : [3, 0, 1]"
            ]
          },
          "execution_count": 22,
          "metadata": {},
          "output_type": "execute_result"
        }
      ],
      "source": [
        "g1"
      ]
    },
    {
      "cell_type": "markdown",
      "id": "caroline-smile",
      "metadata": {
        "id": "caroline-smile"
      },
      "source": [
        "### Adjacency Matrix"
      ]
    },
    {
      "cell_type": "code",
      "execution_count": null,
      "id": "voluntary-border",
      "metadata": {
        "id": "voluntary-border"
      },
      "outputs": [],
      "source": []
    },
    {
      "cell_type": "code",
      "execution_count": null,
      "id": "fantastic-vacation",
      "metadata": {
        "id": "fantastic-vacation"
      },
      "outputs": [],
      "source": []
    },
    {
      "cell_type": "markdown",
      "id": "fifty-portland",
      "metadata": {
        "id": "fifty-portland"
      },
      "source": [
        "### Breadth First Search\n",
        "\n",
        "Complexity $O(m + n)$"
      ]
    },
    {
      "cell_type": "code",
      "execution_count": null,
      "id": "hairy-technique",
      "metadata": {
        "id": "hairy-technique"
      },
      "outputs": [],
      "source": [
        "def bfs(graph, source):\n",
        "    visited = [False] * len(graph.data)\n",
        "    queue = []\n",
        "\n",
        "    visited[source] = True\n",
        "    queue.append(source)\n",
        "    i = 0\n",
        "\n",
        "    while i < len(queue):\n",
        "        for v in graph.data[queue[i]]:\n",
        "            if not visited[v]:\n",
        "                visited[v] = True\n",
        "                queue.append(v)\n",
        "        i += 1\n",
        "\n",
        "    return queue"
      ]
    },
    {
      "cell_type": "code",
      "execution_count": null,
      "id": "deluxe-trust",
      "metadata": {
        "id": "deluxe-trust",
        "outputId": "66291a0d-439d-4a85-ebf1-efc768cc72ac"
      },
      "outputs": [
        {
          "data": {
            "text/plain": [
              "[3, 2, 4, 1, 0]"
            ]
          },
          "execution_count": 39,
          "metadata": {},
          "output_type": "execute_result"
        }
      ],
      "source": [
        "bfs(g1, 3)"
      ]
    },
    {
      "cell_type": "code",
      "execution_count": null,
      "id": "immune-rider",
      "metadata": {
        "id": "immune-rider"
      },
      "outputs": [],
      "source": []
    },
    {
      "cell_type": "code",
      "execution_count": null,
      "id": "compatible-ceramic",
      "metadata": {
        "id": "compatible-ceramic"
      },
      "outputs": [],
      "source": []
    },
    {
      "cell_type": "markdown",
      "id": "active-simon",
      "metadata": {
        "id": "active-simon"
      },
      "source": [
        "### Depth First Search"
      ]
    },
    {
      "cell_type": "code",
      "execution_count": null,
      "id": "august-passage",
      "metadata": {
        "id": "august-passage"
      },
      "outputs": [],
      "source": [
        "def dfs(graph, source):\n",
        "    visited = [False] * len(graph.data)\n",
        "    stack = [source]\n",
        "    result = []\n",
        "\n",
        "    while len(stack) > 0:\n",
        "        current = stack.pop()\n",
        "        if not visited[current]:\n",
        "            result.append(current)\n",
        "            visited[current] = True\n",
        "            for v in graph.data[current]:\n",
        "                stack.append(v)\n",
        "\n",
        "    return result"
      ]
    },
    {
      "cell_type": "code",
      "execution_count": null,
      "id": "coordinate-public",
      "metadata": {
        "id": "coordinate-public",
        "outputId": "80127967-4c30-4d99-8033-2d70aba1b681"
      },
      "outputs": [
        {
          "data": {
            "text/plain": [
              "[0, 4, 1, 3, 2]"
            ]
          },
          "execution_count": 45,
          "metadata": {},
          "output_type": "execute_result"
        }
      ],
      "source": [
        "dfs(g1, 0)"
      ]
    },
    {
      "cell_type": "code",
      "execution_count": null,
      "id": "funded-insert",
      "metadata": {
        "id": "funded-insert"
      },
      "outputs": [],
      "source": []
    },
    {
      "cell_type": "code",
      "execution_count": null,
      "id": "compliant-passing",
      "metadata": {
        "id": "compliant-passing"
      },
      "outputs": [],
      "source": []
    },
    {
      "cell_type": "markdown",
      "id": "lasting-directory",
      "metadata": {
        "id": "lasting-directory"
      },
      "source": [
        "### Directed and Weighted Graph"
      ]
    },
    {
      "cell_type": "code",
      "execution_count": null,
      "id": "olympic-bridge",
      "metadata": {
        "id": "olympic-bridge"
      },
      "outputs": [],
      "source": [
        "class Graph:\n",
        "    def __init__(self, num_nodes, edges, directed=False):\n",
        "        self.data = [[] for _ in range(num_nodes)]\n",
        "        self.weight = [[] for _ in range(num_nodes)]\n",
        "\n",
        "        self.directed = directed\n",
        "        self.weighted = len(edges) > 0 and len(edges[0]) == 3\n",
        "\n",
        "        for e in edges:\n",
        "            self.data[e[0]].append(e[1])\n",
        "            if self.weighted:\n",
        "                self.weight[e[0]].append(e[2])\n",
        "\n",
        "            if not directed:\n",
        "                self.data[e[1]].append(e[0])\n",
        "                if self.weighted:\n",
        "                    self.data[e[1]].append(e[2])\n",
        "\n",
        "    def __repr__(self):\n",
        "        result = \"\"\n",
        "        for i in range(len(self.data)):\n",
        "            pairs = list(zip(self.data[i], self.weight[i]))\n",
        "            result += \"{}: {}\\n\".format(i, pairs)\n",
        "        return result\n",
        "\n",
        "    def __str__(self):\n",
        "        return repr(self)"
      ]
    },
    {
      "cell_type": "code",
      "execution_count": null,
      "id": "monthly-vatican",
      "metadata": {
        "id": "monthly-vatican"
      },
      "outputs": [],
      "source": [
        "g7 = Graph(num_nodes7, edges7, directed=True)"
      ]
    },
    {
      "cell_type": "code",
      "execution_count": null,
      "id": "entertaining-soundtrack",
      "metadata": {
        "id": "entertaining-soundtrack",
        "outputId": "fde2b556-99a1-4344-f308-9a911a0f9873"
      },
      "outputs": [
        {
          "data": {
            "text/plain": [
              "0: [(1, 4), (2, 2)]\n",
              "1: [(2, 5), (3, 10)]\n",
              "2: [(4, 3)]\n",
              "3: [(5, 11)]\n",
              "4: [(3, 4)]\n",
              "5: []"
            ]
          },
          "execution_count": 69,
          "metadata": {},
          "output_type": "execute_result"
        }
      ],
      "source": [
        "g7"
      ]
    },
    {
      "cell_type": "code",
      "execution_count": null,
      "id": "related-senator",
      "metadata": {
        "id": "related-senator",
        "outputId": "385442d3-93b0-44f8-dafa-8b5f0a51425f"
      },
      "outputs": [
        {
          "data": {
            "text/plain": [
              "[2, 10, 3, 11, 4, []]"
            ]
          },
          "execution_count": 61,
          "metadata": {},
          "output_type": "execute_result"
        }
      ],
      "source": [
        "g7.weight"
      ]
    },
    {
      "cell_type": "markdown",
      "id": "confident-rochester",
      "metadata": {
        "id": "confident-rochester"
      },
      "source": [
        "### Shortest Path - Dijkstra's Algorithm"
      ]
    },
    {
      "cell_type": "code",
      "execution_count": null,
      "id": "pursuant-bedroom",
      "metadata": {
        "id": "pursuant-bedroom"
      },
      "outputs": [],
      "source": [
        "def update_distances(graph, current, distance, parent=None):\n",
        "    \"\"\"Update the distances of the current node's neighbors\"\"\"\n",
        "    neighbors = graph.data[current]\n",
        "    weights = graph.weight[current]\n",
        "    for i, node in enumerate(neighbors):\n",
        "        weight = weights[i]\n",
        "        if distance[current] + weight < distance[node]:\n",
        "            distance[node] = distance[current] + weight\n",
        "            if parent:\n",
        "                parent[node] = current\n",
        "\n",
        "def pick_next_node(distance, visited):\n",
        "    \"\"\"Pick the next univisited node at the smallest distance\"\"\"\n",
        "    min_distance = float('inf')\n",
        "    min_node = None\n",
        "    for node in range(len(distance)):\n",
        "        if not visited[node] and distance[node] < min_distance:\n",
        "            min_node = node\n",
        "            min_distance = distance[node]\n",
        "    return min_node\n",
        "\n",
        "def shortest_path(graph, source, dest):\n",
        "    \"\"\"Find the length of the shortest path between source and destination\"\"\"\n",
        "    visited = [False] * len(graph.data)\n",
        "    distance = [float('inf')] * len(graph.data)\n",
        "    parent = [None] * len(graph.data)\n",
        "    queue = []\n",
        "    idx = 0\n",
        "\n",
        "    queue.append(source)\n",
        "    distance[source] = 0\n",
        "    visited[source] = True\n",
        "\n",
        "    while idx < len(queue) and not visited[dest]:\n",
        "        current = queue[idx]\n",
        "        update_distances(graph, current, distance, parent)\n",
        "\n",
        "        next_node = pick_next_node(distance, visited)\n",
        "        if next_node is not None:\n",
        "            visited[next_node] = True\n",
        "            queue.append(next_node)\n",
        "        idx += 1\n",
        "\n",
        "    return distance[dest], distance, parent"
      ]
    },
    {
      "cell_type": "markdown",
      "id": "celtic-tension",
      "metadata": {
        "id": "celtic-tension"
      },
      "source": [
        "<img src=\"https://i.imgur.com/Zn5cUkO.png\" width=\"400\">"
      ]
    },
    {
      "cell_type": "code",
      "execution_count": null,
      "id": "grand-barbados",
      "metadata": {
        "id": "grand-barbados",
        "outputId": "4df46bf6-47f1-42da-82a0-85cbfe48b77a"
      },
      "outputs": [
        {
          "data": {
            "text/plain": [
              "(20, [0, 4, 2, 9, 5, 20], [None, 0, 0, 4, 2, 3])"
            ]
          },
          "execution_count": 84,
          "metadata": {},
          "output_type": "execute_result"
        }
      ],
      "source": [
        "shortest_path(g7, 0, 5)"
      ]
    },
    {
      "cell_type": "code",
      "execution_count": null,
      "id": "quick-header",
      "metadata": {
        "id": "quick-header"
      },
      "outputs": [],
      "source": []
    },
    {
      "cell_type": "code",
      "execution_count": null,
      "id": "wicked-desert",
      "metadata": {
        "id": "wicked-desert"
      },
      "outputs": [],
      "source": []
    },
    {
      "cell_type": "code",
      "execution_count": null,
      "id": "rocky-ready",
      "metadata": {
        "id": "rocky-ready"
      },
      "outputs": [],
      "source": []
    },
    {
      "cell_type": "code",
      "execution_count": null,
      "id": "labeled-watch",
      "metadata": {
        "id": "labeled-watch"
      },
      "outputs": [],
      "source": []
    },
    {
      "cell_type": "code",
      "execution_count": null,
      "id": "advanced-decrease",
      "metadata": {
        "id": "advanced-decrease"
      },
      "outputs": [],
      "source": [
        "import jovian"
      ]
    },
    {
      "cell_type": "code",
      "execution_count": null,
      "id": "injured-juice",
      "metadata": {
        "id": "injured-juice",
        "outputId": "28c88bee-a121-4913-ae94-ffd4e5faf772"
      },
      "outputs": [
        {
          "data": {
            "application/javascript": [
              "window.require && require([\"base/js/namespace\"],function(Jupyter){Jupyter.notebook.save_checkpoint()})"
            ],
            "text/plain": [
              "<IPython.core.display.Javascript object>"
            ]
          },
          "metadata": {},
          "output_type": "display_data"
        },
        {
          "name": "stdout",
          "output_type": "stream",
          "text": [
            "[jovian] Attempting to save notebook..\u001b[0m\n"
          ]
        }
      ],
      "source": [
        "jovian.commit()"
      ]
    },
    {
      "cell_type": "code",
      "execution_count": null,
      "id": "international-motor",
      "metadata": {
        "id": "international-motor"
      },
      "outputs": [],
      "source": []
    }
  ],
  "metadata": {
    "kernelspec": {
      "display_name": "Python 3",
      "language": "python",
      "name": "python3"
    },
    "language_info": {
      "codemirror_mode": {
        "name": "ipython",
        "version": 3
      },
      "file_extension": ".py",
      "mimetype": "text/x-python",
      "name": "python",
      "nbconvert_exporter": "python",
      "pygments_lexer": "ipython3",
      "version": "3.6.12"
    },
    "colab": {
      "provenance": [],
      "include_colab_link": true
    }
  },
  "nbformat": 4,
  "nbformat_minor": 5
}