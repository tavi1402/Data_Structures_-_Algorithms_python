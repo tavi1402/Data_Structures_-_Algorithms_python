{
  "cells": [
    {
      "cell_type": "markdown",
      "metadata": {
        "id": "view-in-github",
        "colab_type": "text"
      },
      "source": [
        "<a href=\"https://colab.research.google.com/github/tavi1402/Data_Structures_and_algorithms_in_python/blob/main/103_python_classes_and_linked_lists.ipynb\" target=\"_parent\"><img src=\"https://colab.research.google.com/assets/colab-badge.svg\" alt=\"Open In Colab\"/></a>"
      ]
    },
    {
      "cell_type": "markdown",
      "id": "banned-tissue",
      "metadata": {
        "id": "banned-tissue"
      },
      "source": [
        "# Introduction to Python Classes and Linked Lists\n",
        "\n",
        "### Part 2 of \"Data Structures and Algorithms in Python\"\n",
        "\n",
        "[Data Structures and Algorithms in Python](https://jovian.ai/learn/data-structures-and-algorithms-in-python) is a beginner-friendly introduction to common data structures (linked lists, stacks, queues, graphs) and algorithms (search, sorting, recursion, dynamic programming) in Python, designed to help you prepare for coding interviews and assessments."
      ]
    },
    {
      "cell_type": "markdown",
      "id": "defined-range",
      "metadata": {
        "id": "defined-range"
      },
      "source": [
        "## How to Run the Code\n",
        "\n",
        "The best way to learn the material is to execute the code and experiment with it yourself. This tutorial is an executable [Jupyter notebook](https://jupyter.org). You can _run_ this tutorial and experiment with the code examples in a couple of ways: *using free online resources* (recommended) or *on your computer*.\n",
        "\n",
        "#### Option 1: Running using free online resources (1-click, recommended)\n",
        "\n",
        "The easiest way to start executing the code is to click the **Run** button at the top of this page and select **Run on Binder**. You can also select \"Run on Colab\" or \"Run on Kaggle\", but you'll need to create an account on [Google Colab](https://colab.research.google.com) or [Kaggle](https://kaggle.com) to use these platforms.\n",
        "\n",
        "\n",
        "#### Option 2: Running on your computer locally\n",
        "\n",
        "To run the code on your computer locally, you'll need to set up [Python](https://www.python.org), download the notebook and install the required libraries. We recommend using the [Conda](https://docs.conda.io/projects/conda/en/latest/user-guide/install/) distribution of Python. Click the **Run** button at the top of this page, select the **Run Locally** option, and follow the instructions.\n",
        "\n",
        ">  **Jupyter Notebooks**: This notebook is made of _cells_. Each cell can contain code written in Python or explanations in plain English. You can execute code cells and view the results instantly within the notebook. Jupyter is a powerful platform for experimentation and analysis. Don't be afraid to mess around with the code & break things - you'll learn a lot by encountering and fixing errors. You can use the \"Kernel > Restart & Clear Output\" menu option to clear all outputs and start again from the top."
      ]
    },
    {
      "cell_type": "markdown",
      "id": "eligible-kuwait",
      "metadata": {
        "id": "eligible-kuwait"
      },
      "source": [
        "## Problem\n",
        "\n",
        "In this notebook, we'll focus our discussion on the following problem:\n",
        "\n",
        "> **QUESTION**: Write a function to reverse a linked list\n",
        "\n",
        "Before we answer this question, we need to answer:\n",
        "\n",
        "- What do we mean by linked list?\n",
        "- How do we create a linked list in Python?\n",
        "- How do we store numbers in a linked list?\n",
        "- How do we retrieve numbers in a linked list\n"
      ]
    },
    {
      "cell_type": "code",
      "execution_count": null,
      "id": "resident-weather",
      "metadata": {
        "id": "resident-weather"
      },
      "outputs": [],
      "source": [
        "!pip install jovian --upgrade --quiet"
      ]
    },
    {
      "cell_type": "code",
      "execution_count": null,
      "id": "quantitative-dream",
      "metadata": {
        "id": "quantitative-dream"
      },
      "outputs": [],
      "source": [
        "import jovian"
      ]
    },
    {
      "cell_type": "code",
      "execution_count": null,
      "id": "available-humor",
      "metadata": {
        "id": "available-humor",
        "outputId": "aa161501-5c43-49d5-ce66-4d78aacc14f4"
      },
      "outputs": [
        {
          "data": {
            "application/javascript": [
              "window.require && require([\"base/js/namespace\"],function(Jupyter){Jupyter.notebook.save_checkpoint()})"
            ],
            "text/plain": [
              "<IPython.core.display.Javascript object>"
            ]
          },
          "metadata": {},
          "output_type": "display_data"
        },
        {
          "name": "stdout",
          "output_type": "stream",
          "text": [
            "[jovian] Attempting to save notebook..\u001b[0m\n",
            "[jovian] Updating notebook \"aakashns/python-classes-and-linked-lists\" on https://jovian.ai/\u001b[0m\n",
            "[jovian] Uploading notebook..\u001b[0m\n",
            "[jovian] Capturing environment..\u001b[0m\n",
            "[jovian] Committed successfully! https://jovian.ai/aakashns/python-classes-and-linked-lists\u001b[0m\n"
          ]
        },
        {
          "data": {
            "text/plain": [
              "'https://jovian.ai/aakashns/python-classes-and-linked-lists'"
            ]
          },
          "execution_count": 5,
          "metadata": {},
          "output_type": "execute_result"
        }
      ],
      "source": [
        "jovian.commit()"
      ]
    },
    {
      "cell_type": "markdown",
      "id": "prime-lucas",
      "metadata": {
        "id": "prime-lucas"
      },
      "source": [
        "## Linked List\n",
        "\n",
        "A linked list is a _data structure_ used for storing a sequence of elements. It's data with some structure (the sequence).\n",
        "\n",
        "![](https://cdn.programiz.com/sites/tutorial2program/files/linked-list-concept_0.png)\n",
        "\n",
        "We'll implement linked lists which support the following operations:\n",
        "\n",
        "- Create a list with given elements\n",
        "- Display the elements in a list\n",
        "- Find the number of elements in a list\n",
        "- Retrieve the element at a given position\n",
        "- Add or remove element(s)\n",
        "- (can you think of any more?)"
      ]
    },
    {
      "cell_type": "markdown",
      "id": "heard-hungary",
      "metadata": {
        "id": "heard-hungary"
      },
      "source": [
        "### A Quick Primer on Classes in Python\n",
        "\n",
        "Let's create a class for it. A class is a blueprint for creating objects."
      ]
    },
    {
      "cell_type": "code",
      "execution_count": null,
      "id": "administrative-spencer",
      "metadata": {
        "id": "administrative-spencer"
      },
      "outputs": [],
      "source": [
        "class Node():\n",
        "    pass"
      ]
    },
    {
      "cell_type": "markdown",
      "id": "pressing-cursor",
      "metadata": {
        "id": "pressing-cursor"
      },
      "source": [
        "We can create an object with nothing in it."
      ]
    },
    {
      "cell_type": "code",
      "execution_count": null,
      "id": "ignored-hearing",
      "metadata": {
        "id": "ignored-hearing",
        "outputId": "58cce365-676d-4494-949a-3a82ffa6a866"
      },
      "outputs": [
        {
          "data": {
            "text/plain": [
              "<__main__.Node at 0x7f904a0fdc88>"
            ]
          },
          "execution_count": 24,
          "metadata": {},
          "output_type": "execute_result"
        }
      ],
      "source": [
        "Node()"
      ]
    },
    {
      "cell_type": "markdown",
      "id": "future-structure",
      "metadata": {
        "id": "future-structure"
      },
      "source": [
        "We just created an object of the class `Node`. However, we have to have a way to access the object. We can do so by creating a variable."
      ]
    },
    {
      "cell_type": "code",
      "execution_count": null,
      "id": "driven-separate",
      "metadata": {
        "id": "driven-separate"
      },
      "outputs": [],
      "source": [
        "node1 = Node()"
      ]
    },
    {
      "cell_type": "markdown",
      "id": "helpful-roberts",
      "metadata": {
        "id": "helpful-roberts"
      },
      "source": [
        "The *variable* `node1` holds a reference the object, and can be used to retrieve the object."
      ]
    },
    {
      "cell_type": "code",
      "execution_count": null,
      "id": "humanitarian-wireless",
      "metadata": {
        "id": "humanitarian-wireless",
        "outputId": "ddbe496c-7877-46e0-dbed-a2c77e6af70c"
      },
      "outputs": [
        {
          "data": {
            "text/plain": [
              "<__main__.Node at 0x7f904a0fda58>"
            ]
          },
          "execution_count": 19,
          "metadata": {},
          "output_type": "execute_result"
        }
      ],
      "source": [
        "node1"
      ]
    },
    {
      "cell_type": "markdown",
      "id": "ready-tours",
      "metadata": {
        "id": "ready-tours"
      },
      "source": [
        "When we call the `Node()` again, it creates a new object."
      ]
    },
    {
      "cell_type": "code",
      "execution_count": null,
      "id": "mature-reflection",
      "metadata": {
        "id": "mature-reflection"
      },
      "outputs": [],
      "source": [
        "node2 = Node()"
      ]
    },
    {
      "cell_type": "code",
      "execution_count": null,
      "id": "naval-ocean",
      "metadata": {
        "scrolled": true,
        "id": "naval-ocean",
        "outputId": "fc3ba26c-1775-45c3-bf0a-322e5aafaba5"
      },
      "outputs": [
        {
          "data": {
            "text/plain": [
              "<__main__.Node at 0x7f904a0fda90>"
            ]
          },
          "execution_count": 23,
          "metadata": {},
          "output_type": "execute_result"
        }
      ],
      "source": [
        "node2"
      ]
    },
    {
      "cell_type": "markdown",
      "id": "tamil-genealogy",
      "metadata": {
        "id": "tamil-genealogy"
      },
      "source": [
        "You can tell that the objects are different because they are at different addresses in the RAM (more on that later)."
      ]
    },
    {
      "cell_type": "markdown",
      "id": "acknowledged-senate",
      "metadata": {
        "id": "acknowledged-senate"
      },
      "source": [
        "We can have multiple variables pointing to the same object."
      ]
    },
    {
      "cell_type": "code",
      "execution_count": null,
      "id": "fabulous-settle",
      "metadata": {
        "id": "fabulous-settle"
      },
      "outputs": [],
      "source": [
        "node3 = node1"
      ]
    },
    {
      "cell_type": "code",
      "execution_count": null,
      "id": "seven-religion",
      "metadata": {
        "id": "seven-religion",
        "outputId": "40a2cd4f-06e4-4980-ae71-35618886f1aa"
      },
      "outputs": [
        {
          "data": {
            "text/plain": [
              "<__main__.Node at 0x7f904a0fda58>"
            ]
          },
          "execution_count": 29,
          "metadata": {},
          "output_type": "execute_result"
        }
      ],
      "source": [
        "node3"
      ]
    },
    {
      "cell_type": "markdown",
      "id": "possible-petroleum",
      "metadata": {
        "id": "possible-petroleum"
      },
      "source": [
        "Our object isn't doing much. Let's give it the ability to store a value. First, we'll store the constant value 0. We can do this using a *constructor*."
      ]
    },
    {
      "cell_type": "code",
      "execution_count": null,
      "id": "stylish-leonard",
      "metadata": {
        "id": "stylish-leonard"
      },
      "outputs": [],
      "source": [
        "class Node():\n",
        "    def __init__(self):\n",
        "        self.data = 0"
      ]
    },
    {
      "cell_type": "markdown",
      "id": "tired-disclaimer",
      "metadata": {
        "id": "tired-disclaimer"
      },
      "source": [
        "Two things to note:\n",
        "* The double underscores\n",
        "* The self (a replacement for `this`)\n",
        "* `self.data` creates a property called. We can name a property anything we wish (`val`, `number`, `the_thing_inside` etc. )"
      ]
    },
    {
      "cell_type": "code",
      "execution_count": null,
      "id": "timely-webmaster",
      "metadata": {
        "id": "timely-webmaster"
      },
      "outputs": [],
      "source": [
        "node4 = Node()"
      ]
    },
    {
      "cell_type": "markdown",
      "id": "iraqi-destination",
      "metadata": {
        "id": "iraqi-destination"
      },
      "source": [
        "So internally what's happening is that Python first creates an empty object, stores the reference to the empty object in an temporary variable called `self`, calls the `__init__` function with `self` as the argument, which then sets the property `data` on the created object with the value 0."
      ]
    },
    {
      "cell_type": "code",
      "execution_count": null,
      "id": "automatic-sodium",
      "metadata": {
        "id": "automatic-sodium",
        "outputId": "d676ff45-a053-4021-cd7b-350dbb0cba12"
      },
      "outputs": [
        {
          "data": {
            "text/plain": [
              "0"
            ]
          },
          "execution_count": 44,
          "metadata": {},
          "output_type": "execute_result"
        }
      ],
      "source": [
        "node4.data"
      ]
    },
    {
      "cell_type": "markdown",
      "id": "uniform-sentence",
      "metadata": {
        "id": "uniform-sentence"
      },
      "source": [
        "And we can change the value inside the variable."
      ]
    },
    {
      "cell_type": "code",
      "execution_count": null,
      "id": "liked-dating",
      "metadata": {
        "id": "liked-dating"
      },
      "outputs": [],
      "source": [
        "node4.data = 10"
      ]
    },
    {
      "cell_type": "code",
      "execution_count": null,
      "id": "collected-entrance",
      "metadata": {
        "id": "collected-entrance",
        "outputId": "1ef6076f-7e64-4ce8-c941-31f2ae1fbef8"
      },
      "outputs": [
        {
          "data": {
            "text/plain": [
              "10"
            ]
          },
          "execution_count": 48,
          "metadata": {},
          "output_type": "execute_result"
        }
      ],
      "source": [
        "node4.data"
      ]
    },
    {
      "cell_type": "markdown",
      "id": "tutorial-hurricane",
      "metadata": {
        "id": "tutorial-hurricane"
      },
      "source": [
        "Let's create nodes with the values 2, 3 and 5"
      ]
    },
    {
      "cell_type": "code",
      "execution_count": null,
      "id": "deluxe-desktop",
      "metadata": {
        "id": "deluxe-desktop"
      },
      "outputs": [],
      "source": [
        "node1 = Node()\n",
        "node1.data = 2"
      ]
    },
    {
      "cell_type": "code",
      "execution_count": null,
      "id": "friendly-raising",
      "metadata": {
        "id": "friendly-raising"
      },
      "outputs": [],
      "source": [
        "node2 = Node()\n",
        "node2.data = 3"
      ]
    },
    {
      "cell_type": "code",
      "execution_count": null,
      "id": "dated-frost",
      "metadata": {
        "id": "dated-frost"
      },
      "outputs": [],
      "source": [
        "node3 = Node()\n",
        "node3.data = 5"
      ]
    },
    {
      "cell_type": "code",
      "execution_count": null,
      "id": "interpreted-steps",
      "metadata": {
        "id": "interpreted-steps",
        "outputId": "5e1c4318-0bee-44fa-b5cc-fdf66186ccc7"
      },
      "outputs": [
        {
          "data": {
            "text/plain": [
              "(2, 3, 5)"
            ]
          },
          "execution_count": 52,
          "metadata": {},
          "output_type": "execute_result"
        }
      ],
      "source": [
        "node1.data, node2.data, node3.data"
      ]
    },
    {
      "cell_type": "markdown",
      "id": "vital-watts",
      "metadata": {
        "id": "vital-watts"
      },
      "source": [
        "While this is OK, there's an easier way to do it."
      ]
    },
    {
      "cell_type": "code",
      "execution_count": null,
      "id": "narrow-missile",
      "metadata": {
        "id": "narrow-missile"
      },
      "outputs": [],
      "source": [
        "class Node():\n",
        "    def __init__(self, a_number):\n",
        "        self.data = a_number\n",
        "        self.next = None"
      ]
    },
    {
      "cell_type": "code",
      "execution_count": null,
      "id": "falling-setup",
      "metadata": {
        "id": "falling-setup"
      },
      "outputs": [],
      "source": [
        "node1 = Node(2)\n",
        "node2 = Node(3)\n",
        "node3 = Node(5)"
      ]
    },
    {
      "cell_type": "code",
      "execution_count": null,
      "id": "typical-anniversary",
      "metadata": {
        "id": "typical-anniversary",
        "outputId": "8799ec7b-9de3-47e3-fd1e-d9ee7fd13990"
      },
      "outputs": [
        {
          "data": {
            "text/plain": [
              "(2, 3, 5)"
            ]
          },
          "execution_count": 75,
          "metadata": {},
          "output_type": "execute_result"
        }
      ],
      "source": [
        "node1.data, node2.data, node3.data"
      ]
    },
    {
      "cell_type": "markdown",
      "id": "double-adjustment",
      "metadata": {
        "id": "double-adjustment"
      },
      "source": [
        "Now we are ready to define a class for our Linked list."
      ]
    },
    {
      "cell_type": "code",
      "execution_count": null,
      "id": "aware-track",
      "metadata": {
        "id": "aware-track"
      },
      "outputs": [],
      "source": [
        "class LinkedList():\n",
        "    def __init__(self):\n",
        "        self.head = None\n"
      ]
    },
    {
      "cell_type": "code",
      "execution_count": null,
      "id": "entire-value",
      "metadata": {
        "id": "entire-value"
      },
      "outputs": [],
      "source": [
        "list1 = LinkedList()"
      ]
    },
    {
      "cell_type": "code",
      "execution_count": null,
      "id": "competent-batch",
      "metadata": {
        "id": "competent-batch"
      },
      "outputs": [],
      "source": [
        "list1.head = Node(2)"
      ]
    },
    {
      "cell_type": "code",
      "execution_count": null,
      "id": "integrated-damages",
      "metadata": {
        "id": "integrated-damages"
      },
      "outputs": [],
      "source": [
        "list1.head.next = Node(3)"
      ]
    },
    {
      "cell_type": "code",
      "execution_count": null,
      "id": "accepting-correlation",
      "metadata": {
        "id": "accepting-correlation"
      },
      "outputs": [],
      "source": [
        "list1.head.next.next = Node(4)"
      ]
    },
    {
      "cell_type": "code",
      "execution_count": null,
      "id": "given-quarter",
      "metadata": {
        "id": "given-quarter",
        "outputId": "51da268a-252c-4dc6-8eb3-3b401116642e"
      },
      "outputs": [
        {
          "data": {
            "text/plain": [
              "(2, 3, 4)"
            ]
          },
          "execution_count": 81,
          "metadata": {},
          "output_type": "execute_result"
        }
      ],
      "source": [
        "list1.head.data, list1.head.next.data, list1.head.next.next.data"
      ]
    },
    {
      "cell_type": "markdown",
      "id": "extensive-freedom",
      "metadata": {
        "id": "extensive-freedom"
      },
      "source": [
        "![](https://cdn.programiz.com/sites/tutorial2program/files/linked-list-concept_0.png)"
      ]
    },
    {
      "cell_type": "code",
      "execution_count": null,
      "id": "adaptive-stuart",
      "metadata": {
        "id": "adaptive-stuart",
        "outputId": "f15e864a-d9e6-4815-812f-3aa0e6876d03"
      },
      "outputs": [
        {
          "data": {
            "text/plain": [
              "(<__main__.Node at 0x7f904a177390>,\n",
              " <__main__.Node at 0x7f904a177438>,\n",
              " <__main__.Node at 0x7f904a1774e0>,\n",
              " None)"
            ]
          },
          "execution_count": 85,
          "metadata": {},
          "output_type": "execute_result"
        }
      ],
      "source": [
        "list1.head, list1.head.next, list1.head.next.next, list1.head.next.next.next"
      ]
    },
    {
      "cell_type": "markdown",
      "id": "sunrise-focus",
      "metadata": {
        "id": "sunrise-focus"
      },
      "source": [
        "While it's OK to set value like this, we can add a couple of arguments."
      ]
    },
    {
      "cell_type": "code",
      "execution_count": null,
      "id": "defensive-monitoring",
      "metadata": {
        "id": "defensive-monitoring"
      },
      "outputs": [],
      "source": [
        "class LinkedList():\n",
        "    def __init__(self):\n",
        "        self.head = None\n",
        "\n",
        "    def append(self, value):\n",
        "        if self.head is None:\n",
        "            self.head = Node(value)\n",
        "        else:\n",
        "            current_node = self.head\n",
        "            while current_node.next is not None:\n",
        "                current_node = current_node.next\n",
        "            current_node.next = Node(value)"
      ]
    },
    {
      "cell_type": "code",
      "execution_count": null,
      "id": "streaming-bunny",
      "metadata": {
        "id": "streaming-bunny"
      },
      "outputs": [],
      "source": [
        "list2 = LinkedList()\n",
        "list2.append(2)\n",
        "list2.append(3)\n",
        "list2.append(5)"
      ]
    },
    {
      "cell_type": "code",
      "execution_count": null,
      "id": "novel-treasury",
      "metadata": {
        "id": "novel-treasury",
        "outputId": "7e6e035c-817c-439f-c8f0-8164694a3107"
      },
      "outputs": [
        {
          "data": {
            "text/plain": [
              "(2, 3, 5)"
            ]
          },
          "execution_count": 96,
          "metadata": {},
          "output_type": "execute_result"
        }
      ],
      "source": [
        "list2.head.data, list2.head.next.data, list2.head.next.next.data"
      ]
    },
    {
      "cell_type": "markdown",
      "id": "constitutional-edinburgh",
      "metadata": {
        "id": "constitutional-edinburgh"
      },
      "source": [
        "Next, let's add a method to print the value in a list."
      ]
    },
    {
      "cell_type": "code",
      "execution_count": null,
      "id": "involved-helena",
      "metadata": {
        "id": "involved-helena"
      },
      "outputs": [],
      "source": [
        "class LinkedList():\n",
        "    def __init__(self):\n",
        "        self.head = None\n",
        "\n",
        "    def append(self, value):\n",
        "        if self.head is None:\n",
        "            self.head = Node(value)\n",
        "        else:\n",
        "            current_node = self.head\n",
        "            while current_node.next is not None:\n",
        "                current_node = current_node.next\n",
        "            current_node.next = Node(value)\n",
        "\n",
        "    def show_elements(self):\n",
        "        current = self.head\n",
        "        while current is not None:\n",
        "            print(current.data)\n",
        "            current = current.next"
      ]
    },
    {
      "cell_type": "code",
      "execution_count": null,
      "id": "usual-vacation",
      "metadata": {
        "id": "usual-vacation"
      },
      "outputs": [],
      "source": [
        "list2 = LinkedList()\n",
        "list2.append(2)\n",
        "list2.append(3)\n",
        "list2.append(5)"
      ]
    },
    {
      "cell_type": "code",
      "execution_count": null,
      "id": "rolled-sierra",
      "metadata": {
        "id": "rolled-sierra",
        "outputId": "42031907-dab0-4156-e4be-038cb0eba54a"
      },
      "outputs": [
        {
          "name": "stdout",
          "output_type": "stream",
          "text": [
            "2\n",
            "3\n",
            "5\n"
          ]
        }
      ],
      "source": [
        "list2.show_elements()"
      ]
    },
    {
      "cell_type": "markdown",
      "id": "finnish-marriage",
      "metadata": {
        "id": "finnish-marriage"
      },
      "source": [
        "Let's add a couple of more functions: `length` and `get_element` to get an element at a specific position."
      ]
    },
    {
      "cell_type": "code",
      "execution_count": null,
      "id": "enclosed-warrior",
      "metadata": {
        "id": "enclosed-warrior"
      },
      "outputs": [],
      "source": [
        "class LinkedList():\n",
        "    def __init__(self):\n",
        "        self.head = None\n",
        "\n",
        "    def append(self, value):\n",
        "        if self.head is None:\n",
        "            self.head = Node(value)\n",
        "        else:\n",
        "            current_node = self.head\n",
        "            while current_node.next is not None:\n",
        "                current_node = current_node.next\n",
        "            current_node.next = Node(value)\n",
        "\n",
        "    def show_elements(self):\n",
        "        current = self.head\n",
        "        while current is not None:\n",
        "            print(current.data)\n",
        "            current = current.next\n",
        "\n",
        "    def length(self):\n",
        "        result = 0\n",
        "        current = self.head\n",
        "        while current is not None:\n",
        "            result += 1\n",
        "            current = current.next\n",
        "        return result\n",
        "\n",
        "    def get_element(self, position):\n",
        "        i = 0\n",
        "        current = self.head\n",
        "        while current is not None:\n",
        "            if i == position:\n",
        "                return current.data\n",
        "            current = current.next\n",
        "            i += 1\n",
        "        return None"
      ]
    },
    {
      "cell_type": "code",
      "execution_count": null,
      "id": "previous-incentive",
      "metadata": {
        "id": "previous-incentive"
      },
      "outputs": [],
      "source": [
        "list2 = LinkedList()\n",
        "list2.append(2)\n",
        "list2.append(3)\n",
        "list2.append(5)\n",
        "list2.append(9)"
      ]
    },
    {
      "cell_type": "code",
      "execution_count": null,
      "id": "bizarre-syndication",
      "metadata": {
        "id": "bizarre-syndication",
        "outputId": "a8369b6a-62eb-4c4a-99d0-9235cdd97877"
      },
      "outputs": [
        {
          "data": {
            "text/plain": [
              "4"
            ]
          },
          "execution_count": 116,
          "metadata": {},
          "output_type": "execute_result"
        }
      ],
      "source": [
        "list2.length()"
      ]
    },
    {
      "cell_type": "code",
      "execution_count": null,
      "id": "active-bracket",
      "metadata": {
        "id": "active-bracket",
        "outputId": "2179d764-e2cd-4cc1-d4ea-41bc47e9cd7c"
      },
      "outputs": [
        {
          "data": {
            "text/plain": [
              "2"
            ]
          },
          "execution_count": 117,
          "metadata": {},
          "output_type": "execute_result"
        }
      ],
      "source": [
        "list2.get_element(0)"
      ]
    },
    {
      "cell_type": "code",
      "execution_count": null,
      "id": "closing-album",
      "metadata": {
        "id": "closing-album",
        "outputId": "e77f247d-3597-4944-999b-20e8eea10e33"
      },
      "outputs": [
        {
          "data": {
            "text/plain": [
              "3"
            ]
          },
          "execution_count": 118,
          "metadata": {},
          "output_type": "execute_result"
        }
      ],
      "source": [
        "list2.get_element(1)"
      ]
    },
    {
      "cell_type": "code",
      "execution_count": null,
      "id": "broken-banner",
      "metadata": {
        "id": "broken-banner",
        "outputId": "3b1ce542-c2a1-4691-d960-02f521489d46"
      },
      "outputs": [
        {
          "data": {
            "text/plain": [
              "5"
            ]
          },
          "execution_count": 119,
          "metadata": {},
          "output_type": "execute_result"
        }
      ],
      "source": [
        "list2.get_element(2)"
      ]
    },
    {
      "cell_type": "code",
      "execution_count": null,
      "id": "entitled-houston",
      "metadata": {
        "id": "entitled-houston",
        "outputId": "793a7196-4e17-458b-c3ca-76d46c5a38d4"
      },
      "outputs": [
        {
          "data": {
            "text/plain": [
              "9"
            ]
          },
          "execution_count": 120,
          "metadata": {},
          "output_type": "execute_result"
        }
      ],
      "source": [
        "list2.get_element(3)"
      ]
    },
    {
      "cell_type": "markdown",
      "id": "surface-antenna",
      "metadata": {
        "id": "surface-antenna"
      },
      "source": [
        "Given a list of size `N`, the the number of statements executed for each of the steps:\n",
        "\n",
        "- `append`: N steps\n",
        "- `length`: N steps\n",
        "- `get_element`: N steps\n",
        "- `show_element`: N steps\n"
      ]
    },
    {
      "cell_type": "markdown",
      "id": "homeless-prisoner",
      "metadata": {
        "id": "homeless-prisoner"
      },
      "source": [
        "## Reversing a Linked List - Solution\n",
        "\n",
        "Here's a simple program to reverse a linked list."
      ]
    },
    {
      "cell_type": "code",
      "execution_count": null,
      "id": "dedicated-millennium",
      "metadata": {
        "id": "dedicated-millennium"
      },
      "outputs": [],
      "source": [
        "def reverse(l):\n",
        "    if l.head is None:\n",
        "        return\n",
        "\n",
        "    current_node = l.head\n",
        "    prev_node = None\n",
        "\n",
        "    while current_node is not None:\n",
        "        # Track the next node\n",
        "        next_node = current_node.next\n",
        "\n",
        "        # Modify the current node\n",
        "        current_node.next = prev_node\n",
        "\n",
        "        # Update prev and current\n",
        "        prev_node = current_node\n",
        "        current_node = next_node\n",
        "\n",
        "    l.head = prev_node"
      ]
    },
    {
      "cell_type": "code",
      "execution_count": null,
      "id": "typical-amino",
      "metadata": {
        "id": "typical-amino"
      },
      "outputs": [],
      "source": [
        "list2 = LinkedList()\n",
        "list2.append(2)\n",
        "list2.append(3)\n",
        "list2.append(5)\n",
        "list2.append(9)"
      ]
    },
    {
      "cell_type": "code",
      "execution_count": null,
      "id": "stunning-creek",
      "metadata": {
        "id": "stunning-creek"
      },
      "outputs": [],
      "source": [
        "reverse(list2)"
      ]
    },
    {
      "cell_type": "code",
      "execution_count": null,
      "id": "several-tyler",
      "metadata": {
        "id": "several-tyler",
        "outputId": "07489882-75b5-4e9f-c8aa-c730a8c5eae4"
      },
      "outputs": [
        {
          "name": "stdout",
          "output_type": "stream",
          "text": [
            "9\n",
            "5\n",
            "3\n",
            "2\n"
          ]
        }
      ],
      "source": [
        "list2.show_elements()"
      ]
    },
    {
      "cell_type": "markdown",
      "id": "activated-gentleman",
      "metadata": {
        "id": "activated-gentleman"
      },
      "source": [
        "That's how you reverse a linked list!"
      ]
    },
    {
      "cell_type": "code",
      "execution_count": null,
      "id": "excess-transition",
      "metadata": {
        "id": "excess-transition"
      },
      "outputs": [],
      "source": [
        "import jovian"
      ]
    },
    {
      "cell_type": "code",
      "execution_count": null,
      "id": "comfortable-binary",
      "metadata": {
        "id": "comfortable-binary",
        "outputId": "e1b0c375-b62b-4c0f-f0d8-2c0ebf25d938"
      },
      "outputs": [
        {
          "data": {
            "application/javascript": [
              "window.require && require([\"base/js/namespace\"],function(Jupyter){Jupyter.notebook.save_checkpoint()})"
            ],
            "text/plain": [
              "<IPython.core.display.Javascript object>"
            ]
          },
          "metadata": {},
          "output_type": "display_data"
        },
        {
          "name": "stdout",
          "output_type": "stream",
          "text": [
            "[jovian] Attempting to save notebook..\u001b[0m\n"
          ]
        }
      ],
      "source": [
        "jovian.commit()"
      ]
    },
    {
      "cell_type": "code",
      "execution_count": null,
      "id": "logical-marketplace",
      "metadata": {
        "id": "logical-marketplace"
      },
      "outputs": [],
      "source": []
    }
  ],
  "metadata": {
    "kernelspec": {
      "display_name": "Python 3",
      "language": "python",
      "name": "python3"
    },
    "language_info": {
      "codemirror_mode": {
        "name": "ipython",
        "version": 3
      },
      "file_extension": ".py",
      "mimetype": "text/x-python",
      "name": "python",
      "nbconvert_exporter": "python",
      "pygments_lexer": "ipython3",
      "version": "3.6.12"
    },
    "colab": {
      "provenance": [],
      "include_colab_link": true
    }
  },
  "nbformat": 4,
  "nbformat_minor": 5
}