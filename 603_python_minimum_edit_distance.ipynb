{
  "cells": [
    {
      "cell_type": "markdown",
      "metadata": {
        "id": "view-in-github",
        "colab_type": "text"
      },
      "source": [
        "<a href=\"https://colab.research.google.com/github/tavi1402/Data_Structures_and_algorithms_in_python/blob/main/603_python_minimum_edit_distance.ipynb\" target=\"_parent\"><img src=\"https://colab.research.google.com/assets/colab-badge.svg\" alt=\"Open In Colab\"/></a>"
      ]
    },
    {
      "cell_type": "markdown",
      "id": "informational-woman",
      "metadata": {
        "id": "informational-woman"
      },
      "source": [
        "## Minimum Edit Distance\n",
        "\n",
        "The following interview was asked during a coding interview at Google:\n",
        "\n",
        "> Given two strings A and B, find the minimum number of steps required to convert A to B. (each operation is counted as 1 step.) You have the following 3 operations permitted on a word:\n",
        ">\n",
        "> * Insert a character\n",
        "> * Delete a character\n",
        "> * Replace a character\n",
        "\n",
        "Here's a visual representation (source: iDeserve)\n",
        "\n",
        "![](https://www.ideserve.co.in/learn/img/editDistance_0.gif)"
      ]
    },
    {
      "cell_type": "code",
      "execution_count": null,
      "id": "treated-management",
      "metadata": {
        "id": "treated-management"
      },
      "outputs": [],
      "source": [
        "# Solve the problem here"
      ]
    },
    {
      "cell_type": "code",
      "execution_count": null,
      "id": "nearby-class",
      "metadata": {
        "id": "nearby-class"
      },
      "outputs": [],
      "source": [
        "# Test the solution here"
      ]
    },
    {
      "cell_type": "code",
      "execution_count": null,
      "id": "cardiovascular-afghanistan",
      "metadata": {
        "id": "cardiovascular-afghanistan"
      },
      "outputs": [],
      "source": []
    },
    {
      "cell_type": "code",
      "execution_count": null,
      "id": "coordinate-demographic",
      "metadata": {
        "id": "coordinate-demographic"
      },
      "outputs": [],
      "source": []
    },
    {
      "cell_type": "code",
      "execution_count": null,
      "id": "pursuant-packaging",
      "metadata": {
        "id": "pursuant-packaging"
      },
      "outputs": [],
      "source": [
        "import jovian"
      ]
    },
    {
      "cell_type": "code",
      "execution_count": null,
      "id": "sonic-registrar",
      "metadata": {
        "id": "sonic-registrar",
        "outputId": "bc9bfbc0-6a82-4a35-9648-64785d611efa"
      },
      "outputs": [
        {
          "data": {
            "application/javascript": [
              "window.require && require([\"base/js/namespace\"],function(Jupyter){Jupyter.notebook.save_checkpoint()})"
            ],
            "text/plain": [
              "<IPython.core.display.Javascript object>"
            ]
          },
          "metadata": {},
          "output_type": "display_data"
        },
        {
          "name": "stdout",
          "output_type": "stream",
          "text": [
            "[jovian] Attempting to save notebook..\u001b[0m\n"
          ]
        }
      ],
      "source": [
        "jovian.commit()"
      ]
    },
    {
      "cell_type": "markdown",
      "id": "laden-packing",
      "metadata": {
        "id": "laden-packing"
      },
      "source": [
        "Brute force (recursion - exponential):"
      ]
    },
    {
      "cell_type": "code",
      "execution_count": null,
      "id": "magnetic-glory",
      "metadata": {
        "id": "magnetic-glory"
      },
      "outputs": [],
      "source": [
        "def min_edit_distance(str1, str2, i1=0, i2=0):\n",
        "    if i1 == len(str1):\n",
        "        return len(str2) - i2\n",
        "    if i2 == len(str2):\n",
        "        return len(str1) - i1\n",
        "    if str1[i1] == str2[i2]:\n",
        "        return min_edit_distance(str1, str2, i1+1, i2+1)\n",
        "    return 1 + min(min_edit_distance(str1, str2, i1, i2+1), # Insert at beginning of str1\n",
        "                   min_edit_distance(str1, str2, i1+1, i2), # Remove from beginning of str1\n",
        "                   min_edit_distance(str1, str2, i1+1, i2+1)) # Swap first character of str1\n",
        ""
      ]
    },
    {
      "cell_type": "code",
      "execution_count": null,
      "id": "veterinary-effectiveness",
      "metadata": {
        "id": "veterinary-effectiveness",
        "outputId": "d2acbe62-444e-4098-a1d9-dd175b0d4978"
      },
      "outputs": [
        {
          "data": {
            "text/plain": [
              "5"
            ]
          },
          "execution_count": 13,
          "metadata": {},
          "output_type": "execute_result"
        }
      ],
      "source": [
        "min_edit_distance('wednesday', 'thursday')"
      ]
    },
    {
      "cell_type": "code",
      "execution_count": null,
      "id": "beautiful-moral",
      "metadata": {
        "id": "beautiful-moral",
        "outputId": "517d523e-42bf-4830-dc31-5d77a279c655"
      },
      "outputs": [
        {
          "data": {
            "text/plain": [
              "5"
            ]
          },
          "execution_count": 12,
          "metadata": {},
          "output_type": "execute_result"
        }
      ],
      "source": [
        "min_edit_distance('intention', 'execution')"
      ]
    },
    {
      "cell_type": "markdown",
      "id": "smart-henry",
      "metadata": {
        "id": "smart-henry"
      },
      "source": [
        "Improved (memoization - $O(n_1*n_2)$):"
      ]
    },
    {
      "cell_type": "code",
      "execution_count": null,
      "id": "lovely-artwork",
      "metadata": {
        "id": "lovely-artwork"
      },
      "outputs": [],
      "source": [
        "def min_edit_distance2(str1, str2):\n",
        "    memo = {}\n",
        "    def recurse(i1, i2):\n",
        "        key = (i1, i2)\n",
        "        if key in memo:\n",
        "            return memo[key]\n",
        "        elif i1 == len(str1):\n",
        "            memo[key] = len(str2) - i2\n",
        "        elif i2 == len(str2):\n",
        "            memo[key] = len(str1) - i1\n",
        "        elif str1[i1] == str2[i2]:\n",
        "            memo[key] = recurse(i1+1, i2+1)\n",
        "        else:\n",
        "            memo[key] = 1 + min(recurse(i1, i2+1),\n",
        "                                recurse(i1+1, i2),\n",
        "                                recurse(i1+1, i2+1))\n",
        "        return memo[key]\n",
        "    return recurse(0, 0)"
      ]
    },
    {
      "cell_type": "code",
      "execution_count": null,
      "id": "detailed-variance",
      "metadata": {
        "id": "detailed-variance",
        "outputId": "fa1c9837-842b-4cc1-965b-b4c93080fb5b"
      },
      "outputs": [
        {
          "data": {
            "text/plain": [
              "5"
            ]
          },
          "execution_count": 25,
          "metadata": {},
          "output_type": "execute_result"
        }
      ],
      "source": [
        "min_edit_distance2('intention', 'execution')"
      ]
    },
    {
      "cell_type": "markdown",
      "id": "lasting-grove",
      "metadata": {
        "id": "lasting-grove"
      },
      "source": [
        "Best (Dynamic programming - $O(n_1*n_2)$):"
      ]
    },
    {
      "cell_type": "code",
      "execution_count": null,
      "id": "pleased-steering",
      "metadata": {
        "id": "pleased-steering"
      },
      "outputs": [],
      "source": [
        "# left as an exercise"
      ]
    },
    {
      "cell_type": "code",
      "execution_count": null,
      "id": "intellectual-shield",
      "metadata": {
        "id": "intellectual-shield"
      },
      "outputs": [],
      "source": []
    }
  ],
  "metadata": {
    "kernelspec": {
      "display_name": "Python 3",
      "language": "python",
      "name": "python3"
    },
    "language_info": {
      "codemirror_mode": {
        "name": "ipython",
        "version": 3
      },
      "file_extension": ".py",
      "mimetype": "text/x-python",
      "name": "python",
      "nbconvert_exporter": "python",
      "pygments_lexer": "ipython3",
      "version": "3.6.12"
    },
    "colab": {
      "provenance": [],
      "include_colab_link": true
    }
  },
  "nbformat": 4,
  "nbformat_minor": 5
}